{
 "cells": [
  {
   "cell_type": "markdown",
   "metadata": {},
   "source": [
    " ## **[코드 내용]**\n",
    "\n",
    "### 1. 자연어 처리 (NLP)\n",
    "####   1.1. 한국어 형태소분석기 konlpy와 mecab설치\n",
    "####   1.2. Mecab 사용자 사전 추가하기\n",
    "####   1.3. 한국어 자연어 처리 수행\n",
    " \n",
    " \n",
    " ### 2. 핵심어 분석  \n",
    " #### 2.1. 핵심어 단순빈도 분석\n",
    " #### 2.2. 단어 구름\n",
    " #### 2.3. 단어빈도-역문서빈도(TF-IDF) 분석\n",
    "    "
   ]
  },
  {
   "cell_type": "markdown",
   "metadata": {},
   "source": [
    "# 1. 자연어 처리 (NLP)\n"
   ]
  },
  {
   "cell_type": "markdown",
   "metadata": {},
   "source": [
    "## 1.1. 형태소 분석기 mecab 설치하기(window 버전)"
   ]
  },
  {
   "cell_type": "markdown",
   "metadata": {},
   "source": [
    "### 1) Visual Studio 설치\n",
    "\n",
    "https://visualstudio.microsoft.com/ko/vs/older-downloads/ \n",
    "\n",
    "재배포 가능 패키지 및 필드 도구 > Microsoft Build Tools 2015 업데이트를 다운로드\n",
    "\n",
    "\n",
    "### 2) KoNLPy 설치하기 \n",
    "\n",
    "1. 아나콘다 프롬포트를 실행한 후 activate py37 입력하여 가상환경 py37로 들어갑니다.  \n",
    "\n",
    "\n",
    "\n",
    "2. 아나콘다 프롬포트에 아래 명령어를 수행하여서 pip 설치, 32비트, 64비트 확인 합니다.  \n",
    "    **pip install --upgrade pip --user**  \n",
    "\n",
    "\n",
    "\n",
    "3. jpype1 설치진행 (관리자 권한으로 실행, 아나콘다 아이콘 오른쪽으로 누른후 '관리자 권한'으로 실행) 아래 명령어 수행합니다.  \n",
    "    **conda install –c conda-forge jpype1**  \n",
    "\n",
    "\n",
    "\n",
    "4. JDK 설치 https://www.oracle.com/java/technologies/javase-downloads.html  이 링크에 들어가서 **Windows x64 Installer** 설치합니다.  \n",
    "\n",
    "\n",
    "\n",
    "5. JAVA_HOME PATH 설정합니다. 아래 경로를 따라 하세요.  \n",
    "    **(시스템 환경 변수 편집 / 시스템 속성 > 환경 변수 > 시스템 변수 편집 >  새로 만들기 \n",
    "    변수 이름 : JAVA_HOME , 변수 값 : jdk디렉토리 복사 ( 예시 C:\\Program Files\\Java\\jdk-11.0.11 ) )**  \n",
    "\n",
    "\n",
    "\n",
    "6. KoNLPy 설치합니다. 아래 명령어 수행합니다.  \n",
    "    **pip install konlpy**"
   ]
  },
  {
   "cell_type": "markdown",
   "metadata": {},
   "source": [
    "### 3) Mecab 설치하기  \n",
    "\n",
    "1. 본인의 C:/ 드라이브에 mecab폴더 생성 -> C:/mecab  \n",
    "\n",
    "\n",
    "\n",
    "2. mecab-ko-msvc 설치하기 (c 기반인 mecab이 윈도우에서 실행 될 수 있도록)  \n",
    "아래 링크에서 본인의 윈도우 32bit/64bit 확인 후 선택하여  최신 버전 다운로드하세요.  \n",
    "https://github.com/Pusnow/mecab-ko-msvc/releases/tag/release-0.9.2-msvc-3  \n",
    "\n",
    "    2021/08/30 기준 release-0.9.2-msvc-3  \n",
    "    다운 받은 zip파일을 mecab폴더에 압축을 푼다. (하위 폴더가 생기지 않고, 파일만 풀어지도록)  \n",
    "\n",
    "\n",
    "\n",
    "3. mecab-ko-dic-msv 설치하기  \n",
    "아래 링크에서 본인의 윈도우 32bit/64bit 확인 후 선택하여 최신 버전 다운로드하세요.  \n",
    "https://github.com/Pusnow/mecab-ko-dic-msvc/releases/tag/mecab-ko-dic-2.1.1-20180720-msvc-2  \n",
    "\n",
    "    2021/08/30 기준 mecab-ko-dic-2.1.1-20180720-msvc-2  \n",
    "\n",
    "\n",
    "\n",
    "4. python wheel 설치하기  \n",
    "아래 링크에서 본인의 python 버전을 확인 후 32비트/64비트 선택하여 최신다운로드하세요.  \n",
    "https://github.com/Pusnow/mecab-python-msvc/releases/tag/mecab_python-0.996_ko_0.9.2_msvc-3  \n",
    "\n",
    "   **예시 ) 파이썬 3.7에 윈도우 64bit 이므로 -> mecab_python-0.996_ko_0.9.2_msvc-cp37-cp37m-win_amd64.whl 를 다운로드하세요.**"
   ]
  },
  {
   "cell_type": "markdown",
   "metadata": {},
   "source": [
    "### 4) jupyter notebook에서 다운받은 mecab 사용하기\n",
    "\n",
    "1. mecab_python-0.996_ko_0.9.2_msvc-cp37-cp37m-win_amd64.whl'를 site-package 폴더에 옮긴다."
   ]
  },
  {
   "cell_type": "code",
   "execution_count": 1,
   "metadata": {},
   "outputs": [
    {
     "data": {
      "text/plain": [
       "['c:\\\\users\\\\smell\\\\anaconda3\\\\envs\\\\py37',\n",
       " 'c:\\\\users\\\\smell\\\\anaconda3\\\\envs\\\\py37\\\\lib\\\\site-packages']"
      ]
     },
     "execution_count": 1,
     "metadata": {},
     "output_type": "execute_result"
    }
   ],
   "source": [
    "# 아래 명령어를 사용하여서 site-package 위치를 확인\n",
    "import site; site.getsitepackages() "
   ]
  },
  {
   "cell_type": "markdown",
   "metadata": {},
   "source": [
    "\n",
    "\n",
    "2. anaconda prompt 실행 > activate py37 입력 (가상환경 py37 실행) > site-package 폴더로 이동 > pip로 설치\n",
    "\n",
    "**(py37) cd C:/Users/사용자명/Anaconda3/envs/가상환경명/Lib/site-packages**  \n",
    "**(py37) pip install mecab_python-0.996_ko_0.9.2_msvc-cp37-cp37m-win_amd64.whl**  \n",
    "\n",
    "\n",
    "\n",
    "3. Mecab에 필요한 tweepy 설치 (이전 prompt 창은 닫고 새로 켜주세요)  \n",
    "    **activate py37 (가상환경 py37 실행)**  \n",
    "    **pip install tweepy==3.10.0 (입력)**"
   ]
  },
  {
   "cell_type": "markdown",
   "metadata": {},
   "source": [
    "### 성공적으로 설치 되었다면 (전체적으로 커널 리셋하고 다시 실행해주기) "
   ]
  },
  {
   "cell_type": "code",
   "execution_count": 2,
   "metadata": {
    "scrolled": true
   },
   "outputs": [
    {
     "data": {
      "text/plain": [
       "[('형태소', 'NNG'),\n",
       " ('분석기', 'NNG'),\n",
       " ('가', 'JKS'),\n",
       " ('제대로', 'MAG'),\n",
       " ('설치', 'NNG'),\n",
       " ('되', 'XSV'),\n",
       " ('었', 'EP'),\n",
       " ('습니다', 'EF'),\n",
       " ('.', 'SF')]"
      ]
     },
     "execution_count": 2,
     "metadata": {},
     "output_type": "execute_result"
    }
   ],
   "source": [
    "from konlpy.tag import Mecab\n",
    "mecab=Mecab(dicpath='C:/mecab/mecab-ko-dic')\n",
    "mecab.pos('형태소 분석기가 제대로 설치 되었습니다.')"
   ]
  },
  {
   "cell_type": "code",
   "execution_count": 3,
   "metadata": {},
   "outputs": [
    {
     "data": {
      "text/plain": [
       "[('lg', 'NNP')]"
      ]
     },
     "execution_count": 3,
     "metadata": {},
     "output_type": "execute_result"
    }
   ],
   "source": [
    "mecab.pos('lg')"
   ]
  },
  {
   "cell_type": "code",
   "execution_count": 4,
   "metadata": {},
   "outputs": [
    {
     "data": {
      "text/plain": [
       "False"
      ]
     },
     "execution_count": 4,
     "metadata": {},
     "output_type": "execute_result"
    }
   ],
   "source": [
    "# 종성 여부 판단 \n",
    "\n",
    "def has_coda(word):\n",
    "    return (ord(word[-1]) -44032) % 28 == 0\n",
    "\n",
    "has_coda('올리브영')"
   ]
  },
  {
   "cell_type": "markdown",
   "metadata": {},
   "source": [
    "## 1.2. MeCab 사용자 사전 추가하기\n",
    "\n",
    "\n",
    "- 사용자 사전을 추가하는 이유 \n",
    "\n",
    "예를 들면 '올리브영'을 형태소 분석기에 넣으면 '올리브(NNG)','영(NNG)'으로 분석되어 나옵니다.  \n",
    "이것을 '올리브영(NNP)'로 분석되도록 사용자 자체로 사전을 추가할 수 있습니다.  \n",
    "\n",
    "- mecab의 폴더를 보면 크게 3개의 폴더로 이뤄져 있습니다.\n",
    "\n",
    "1. mecab-ko-dic : mecab의 단어 사전\n",
    "2. tools : 단어 사전에 단어를 추가시킨 후 컴파일 및 적용을 시켜주는 프로그램들 존재\n",
    "3. user-dic : 사용자가 추가적으로 추가한 단어에 대한 단어 사전\n",
    "\n",
    "단어 사전에 단어를 추가하는 프로세스는 크게 다음과 같이 진행이 됩니다.\n",
    "\n",
    "1. user-dic의 csv 파일에 형식에 맞게 추가하고 싶은 단어를 추가\n",
    "2. tools의 add-userdic-win.ps1라는 프로그램을 실행하여 컴파일 진행하여 추가 사항을 적용\n",
    "3. 2번의 과정에 의해서 user-dic에서 설정한 csv파일이 mecab-ko-dic에 새로 csv파일이 만들어져서 단어 사전에 해당 단어가 적용됨"
   ]
  },
  {
   "cell_type": "markdown",
   "metadata": {},
   "source": [
    "우선 user-dic에서 nnp.csvv 파일을 확인합니다. "
   ]
  },
  {
   "cell_type": "code",
   "execution_count": 5,
   "metadata": {
    "scrolled": false
   },
   "outputs": [
    {
     "data": {
      "text/plain": [
       "['대우,,,,NNP,*,F,대우,*,*,*,*,*\\n',\n",
       " '구글,,,,NNP,*,T,구글,*,*,*,*,*\\n',\n",
       " '아디다스,,,,NNP,*,F,아디다스,*,*,*,*,*\\n',\n",
       " 'sk매직,,,,NNP,*,T,sk매직,*,*,*,*,*\\n',\n",
       " '전자레인지,,,,NNG,*,T,전자레인지,*,*,*,*,*\\n',\n",
       " '가성비,,,,NNP,*,T,가성비,*,*,*,*,*  \\n',\n",
       " '파트너스,,,,NNP,*,F,파트너스,*,*,*,*,*   \\n',\n",
       " '차일드락,,,,NNP,*,T,차일드락,*,*,*,*,*\\n',\n",
       " '토스트기,,,,NNP,*,F,토스트기,*,*,*,*,*\\n',\n",
       " '롯데닷컴,,,,NNP,*,T,롯데닷컴,*,*,*,*,*\\n',\n",
       " '지마켓,,,,NNP,*,T,지마켓,*,*,*,*,*\\n',\n",
       " '에어프라이기,,,,NNP,*,F,에어프라이기,*,*,*,*,*\\n',\n",
       " '동양매직,,,,NNP,*,T,동양매직,*,*,*,*,*    \\n',\n",
       " '최애템,,,,NNP,*,T,최애템,*,*,*,*,* \\n',\n",
       " '핫템,,,,NNP,*,T,핫템,*,*,*,*,* \\n',\n",
       " '꿀템,,,,NNP,*,T,꿀템,*,*,*,*,* \\n',\n",
       " '대박템,,,,NNP,*,T,대박템,*,*,*,*,* \\n',\n",
       " '광파오븐,,,,NNP,*,T,광파오븐,*,*,*,*,* \\n',\n",
       " '스마일데이,,,,NNP,*,T,스마일데이,*,*,*,*,* \\n',\n",
       " '전자식,,,,NNP,*,T,전자식,*,*,*,*,* \\n',\n",
       " '로켓배송,,,,NNP,*,T,로켓배송,*,*,*,*,* \\n',\n",
       " '복합오븐,,,,NNP,*,T,복합오븐,*,*,*,*,*\\n',\n",
       " '멀티오븐,,,,NNP,*,T,멀티오븐,*,*,*,*,* \\n',\n",
       " '전기오븐,,,,NNP,*,T,전기오븐,*,*,*,*,* \\n',\n",
       " '스팀오븐,,,,NNP,*,T,스팀오븐,*,*,*,*,* \\n',\n",
       " '초단위,,,,NNP,*,T,초단위,*,*,*,*,* \\n',\n",
       " '분단위,,,,NNP,*,T,분단위,*,*,*,*,* \\n',\n",
       " '베이컨,,,,NNP,*,T,베이컨,*,*,*,*,* \\n',\n",
       " 'lg,,,,NNP,*,T,lg,*,*,*,*,* \\n',\n",
       " 'as,,,,NNP,*,T,as,*,*,*,*,* ']"
      ]
     },
     "execution_count": 5,
     "metadata": {},
     "output_type": "execute_result"
    }
   ],
   "source": [
    "with open(\"C:/mecab/user-dic/nnp2.csv\", 'r', encoding='utf-8') as f: \n",
    "    file_data = f.readlines()\n",
    "file_data# 유사도 에서 "
   ]
  },
  {
   "cell_type": "markdown",
   "metadata": {},
   "source": [
    "기본적으로 '대우'라는 단어와 '구글'이라는 단어에 대해서 단어가 있습니다.  \n",
    "\n",
    "이제 각자 원하는 단어를 추가해주세요. (예시: '올리브영')  \n",
    "\n",
    ",과 *의 형태는 변경하면 안됩니다. 그리고 T와 F는 종성의 여부 입니다. "
   ]
  },
  {
   "cell_type": "code",
   "execution_count": 6,
   "metadata": {},
   "outputs": [
    {
     "data": {
      "text/plain": [
       "['대우,,,,NNP,*,F,대우,*,*,*,*,*\\n',\n",
       " '구글,,,,NNP,*,T,구글,*,*,*,*,*\\n',\n",
       " '아디다스,,,,NNP,*,F,아디다스,*,*,*,*,*\\n',\n",
       " 'sk매직,,,,NNP,*,T,sk매직,*,*,*,*,*\\n',\n",
       " '전자레인지,,,,NNG,*,T,전자레인지,*,*,*,*,*\\n',\n",
       " '가성비,,,,NNP,*,T,가성비,*,*,*,*,*  \\n',\n",
       " '파트너스,,,,NNP,*,F,파트너스,*,*,*,*,*   \\n',\n",
       " '차일드락,,,,NNP,*,T,차일드락,*,*,*,*,*\\n',\n",
       " '토스트기,,,,NNP,*,F,토스트기,*,*,*,*,*\\n',\n",
       " '롯데닷컴,,,,NNP,*,T,롯데닷컴,*,*,*,*,*\\n',\n",
       " '지마켓,,,,NNP,*,T,지마켓,*,*,*,*,*\\n',\n",
       " '에어프라이기,,,,NNP,*,F,에어프라이기,*,*,*,*,*\\n',\n",
       " '동양매직,,,,NNP,*,T,동양매직,*,*,*,*,*    \\n',\n",
       " '최애템,,,,NNP,*,T,최애템,*,*,*,*,* \\n',\n",
       " '핫템,,,,NNP,*,T,핫템,*,*,*,*,* \\n',\n",
       " '꿀템,,,,NNP,*,T,꿀템,*,*,*,*,* \\n',\n",
       " '대박템,,,,NNP,*,T,대박템,*,*,*,*,* \\n',\n",
       " '광파오븐,,,,NNP,*,T,광파오븐,*,*,*,*,* \\n',\n",
       " '스마일데이,,,,NNP,*,T,스마일데이,*,*,*,*,* \\n',\n",
       " '전자식,,,,NNP,*,T,전자식,*,*,*,*,* \\n',\n",
       " '로켓배송,,,,NNP,*,T,로켓배송,*,*,*,*,* \\n',\n",
       " '복합오븐,,,,NNP,*,T,복합오븐,*,*,*,*,*\\n',\n",
       " '멀티오븐,,,,NNP,*,T,멀티오븐,*,*,*,*,* \\n',\n",
       " '전기오븐,,,,NNP,*,T,전기오븐,*,*,*,*,* \\n',\n",
       " '스팀오븐,,,,NNP,*,T,스팀오븐,*,*,*,*,* \\n',\n",
       " '초단위,,,,NNP,*,T,초단위,*,*,*,*,* \\n',\n",
       " '분단위,,,,NNP,*,T,분단위,*,*,*,*,* \\n',\n",
       " '베이컨,,,,NNP,*,T,베이컨,*,*,*,*,* \\n',\n",
       " 'lg,,,,NNP,*,T,lg,*,*,*,*,* \\n',\n",
       " 'as,,,,NNP,*,T,as,*,*,*,*,* ']"
      ]
     },
     "execution_count": 6,
     "metadata": {},
     "output_type": "execute_result"
    }
   ],
   "source": [
    "# file_data.append('LG,,,,SL,*,F,LG,*,*,*,*,*\\n') ## 원하는 단어 추가 \n",
    "# file_data.append('베이컨,,,,NNP,*,T,베이컨,*,*,*,*,*\\n')\n",
    "# 초단위\n",
    "# 분단위\n",
    "with open(\"C:/mecab/user-dic/nnp.csv\", 'w', encoding='utf-8') as f: \n",
    "    for line in file_data: \n",
    "        f.write(line)\n",
    "        \n",
    "f.close()\n",
    "\n",
    "file_data\n",
    "\n",
    "#nnp "
   ]
  },
  {
   "cell_type": "markdown",
   "metadata": {},
   "source": [
    "1. 만약 현재 jupyter로 mecab을 사용하고 있던 상태였다면 window powerShell로 tools의 쉘 프로그램을 실행시킬 때 오류가 날 수 있으므로 **아나콘다 prompt와 jupyter notebook을 완전히 종료 시키고 다음 과정을 진행합니다.**\n",
    "\n",
    "#### [ 아래는 window 환경 버전 입니다. ]\n",
    "\n",
    "2. window powerShell을 사용합니다.\n",
    "    **Window 검색창에 'powerShell’을 검색 > 마우스 오른쪽 클릭 ‘ 관리자 권한 실행‘**\n",
    "\n",
    "\n",
    "3. mecab파일들이 존재하는 디렉터리로 이동하고 다음 명령어로 컴파일을 진행합니다.  \n",
    "\n",
    "\n",
    "4. 아래 명령어를 이용하여 mecab 파일로 이동 ('cd':파일에 들어가는 명령어/'ls':파일 내에 폴더 들의 리스트를 볼 수 있는 명령어 )  \n",
    "    **cd mecab**  \n",
    "    \n",
    "    \n",
    "5. 아래 명령어를 이용하여 사용자 사전 구축  \n",
    "    **.\\tools\\add-userdic-win.ps1**  \n",
    "\n",
    "\n",
    "6. done! 이 나오면 완료  \n"
   ]
  },
  {
   "cell_type": "code",
   "execution_count": 7,
   "metadata": {},
   "outputs": [
    {
     "data": {
      "text/plain": [
       "['대우,1786,3545,3821,NNP,*,F,대우,*,*,*,*,*\\n',\n",
       " '구글,1786,3546,2953,NNP,*,T,구글,*,*,*,*,*\\n',\n",
       " '아디다스,1786,3545,0,NNP,*,F,아디다스,*,*,*,*,*\\n',\n",
       " 'sk매직,1786,3546,1,NNP,*,T,sk매직,*,*,*,*,*\\n',\n",
       " '전자레인지,1780,3534,2,NNG,*,T,전자레인지,*,*,*,*,*\\n',\n",
       " '가성비,1786,3546,3,NNP,*,T,가성비,*,*,*,*,*  \\n',\n",
       " '파트너스,1786,3545,4,NNP,*,F,파트너스,*,*,*,*,*   \\n',\n",
       " '차일드락,1786,3546,5,NNP,*,T,차일드락,*,*,*,*,*\\n',\n",
       " '토스트기,1786,3545,6,NNP,*,F,토스트기,*,*,*,*,*\\n',\n",
       " '롯데닷컴,1786,3546,7,NNP,*,T,롯데닷컴,*,*,*,*,*\\n',\n",
       " '지마켓,1786,3546,8,NNP,*,T,지마켓,*,*,*,*,*\\n',\n",
       " '에어프라이기,1786,3545,9,NNP,*,F,에어프라이기,*,*,*,*,*\\n',\n",
       " '동양매직,1786,3546,10,NNP,*,T,동양매직,*,*,*,*,*    \\n',\n",
       " '최애템,1786,3546,11,NNP,*,T,최애템,*,*,*,*,* \\n',\n",
       " '핫템,1786,3546,12,NNP,*,T,핫템,*,*,*,*,* \\n',\n",
       " '꿀템,1786,3546,13,NNP,*,T,꿀템,*,*,*,*,* \\n',\n",
       " '대박템,1786,3546,14,NNP,*,T,대박템,*,*,*,*,* \\n',\n",
       " '광파오븐,1786,3546,15,NNP,*,T,광파오븐,*,*,*,*,* \\n',\n",
       " '스마일데이,1786,3546,16,NNP,*,T,스마일데이,*,*,*,*,* \\n',\n",
       " '전자식,1786,3546,17,NNP,*,T,전자식,*,*,*,*,* \\n',\n",
       " '로켓배송,1786,3546,18,NNP,*,T,로켓배송,*,*,*,*,* \\n',\n",
       " '복합오븐,1786,3546,19,NNP,*,T,복합오븐,*,*,*,*,*\\n',\n",
       " '멀티오븐,1786,3546,20,NNP,*,T,멀티오븐,*,*,*,*,* \\n',\n",
       " '전기오븐,1786,3546,21,NNP,*,T,전기오븐,*,*,*,*,* \\n',\n",
       " '스팀오븐,1786,3546,22,NNP,*,T,스팀오븐,*,*,*,*,* \\n',\n",
       " '초단위,1786,3546,23,NNP,*,T,초단위,*,*,*,*,* \\n',\n",
       " '분단위,1786,3546,24,NNP,*,T,분단위,*,*,*,*,* \\n',\n",
       " '베이컨,1786,3546,25,NNP,*,T,베이컨,*,*,*,*,* \\n',\n",
       " 'lg,1786,3546,26,NNP,*,T,lg,*,*,*,*,* \\n',\n",
       " 'as,1786,3546,27,NNP,*,T,as,*,*,*,*,* \\n']"
      ]
     },
     "execution_count": 7,
     "metadata": {},
     "output_type": "execute_result"
    }
   ],
   "source": [
    "with open(\"C:/mecab/mecab-ko-dic/user-nnp2.csv\", 'r', encoding='utf-8') as f: \n",
    "    file_data = f.readlines()\n",
    "file_data"
   ]
  },
  {
   "cell_type": "code",
   "execution_count": 10,
   "metadata": {},
   "outputs": [
    {
     "data": {
      "text/plain": [
       "['대우,1786,3545,3821,NNP,*,F,대우,*,*,*,*,*\\n',\n",
       " '구글,1786,3546,2953,NNP,*,T,구글,*,*,*,*,*\\n',\n",
       " '아디다스,1786,3545,0,NNP,*,F,아디다스,*,*,*,*,*\\n',\n",
       " 'SK매직,1786,3545,0,NNP,*,T,SK매직,*,*,*,*,*\\n',\n",
       " '전자레인지,1786,3545,1,NNP,*,T,전자레인지,*,*,*,*,*\\n',\n",
       " '가성비,1786,3545,2,NNP,*,T,가성비,*,*,*,*,*\\n',\n",
       " '파트너스,1786,3545,3,NNP,*,F,파트너스,*,*,*,*,*\\n',\n",
       " '차일드락,1786,3545,4,NNP,*,T,차일드락,*,*,*,*,*\\n',\n",
       " '토스트기,1786,3545,5,NNP,*,T,토스트기,*,*,*,*,*\\n',\n",
       " '롯데닷컴,1786,3545,6,NNP,*,T,롯데닷컴,*,*,*,*,*\\n',\n",
       " '지마켓,1786,3545,7,NNP,*,T,지마켓,*,*,*,*,*\\n',\n",
       " '에어프라이기,1786,3545,8,NNP,*,F,에어프라이기,*,*,*,*,*\\n',\n",
       " '동양매직,1786,3545,9,NNP,*,T,동양매직,*,*,*,*,*\\n',\n",
       " '최애템,1786,3545,10,NNP,*,T,최애템,*,*,*,*,*\\n',\n",
       " '핫템,1786,3545,11,NNP,*,T,핫템,*,*,*,*,*\\n',\n",
       " '꿀템,1786,3545,12,NNP,*,T,꿀템,*,*,*,*,*\\n',\n",
       " '대박템,1786,3545,13,NNP,*,T,대박템,*,*,*,*,*\\n',\n",
       " '광파오븐,1786,3545,14,NNP,*,T,광파오븐,*,*,*,*,*\\n',\n",
       " '스마일데이,1786,3546,16,NNP,*,T,스마일데이,*,*,*,*,* \\n',\n",
       " '전자식,1786,3545,15,NNP,*,T,전자식,*,*,*,*,*\\n',\n",
       " '로켓배송,1786,3545,16,NNP,*,T,로켓배송,*,*,*,*,*\\n',\n",
       " '복합오븐,1786,3545,17,NNP,*,T,복합오븐,*,*,*,*,*\\n',\n",
       " '멀티오븐,1786,3545,18,NNP,*,T,멀티오븐,*,*,*,*,*\\n',\n",
       " '전기오븐,1786,3545,19,NNP,*,T,전기오븐,*,*,*,*,*\\n',\n",
       " '스팀오븐,1786,3545,20,NNP,*,T,스팀오븐,*,*,*,*,*\\n',\n",
       " '초단위,1786,3545,21,NNP,*,T,초단위,*,*,*,*,*\\n',\n",
       " '분단위,1786,3545,22,NNP,*,T,분단위,*,*,*,*,*\\n',\n",
       " '베이컨,1786,3545,23,NNP,*,T,베이컨,*,*,*,*,*\\n',\n",
       " 'lg,1786,3546,26,NNP,*,T,lg,*,*,*,*,* \\n',\n",
       " 'as,1786,3546,27,NNP,*,T,as,*,*,*,*,* \\n']"
      ]
     },
     "execution_count": 10,
     "metadata": {},
     "output_type": "execute_result"
    }
   ],
   "source": [
    "with open(\"C:/mecab/mecab-ko-dic/user-nnp.csv\", 'w', encoding='utf-8') as f: \n",
    "    for line in file_data: \n",
    "        f.write(line)\n",
    "with open(\"C:/mecab/mecab-ko-dic/user-nnp.csv\", 'r', encoding='utf-8') as f: \n",
    "    file_data = f.readlines()\n",
    "    \n",
    "file_data"
   ]
  },
  {
   "cell_type": "markdown",
   "metadata": {},
   "source": [
    "추가로 단어의 우선순위가 낮아서 인식이 잘 안되는 경우가 있어서 우선순위 수정 하는 과정이 필요합니다."
   ]
  },
  {
   "cell_type": "code",
   "execution_count": 9,
   "metadata": {},
   "outputs": [
    {
     "data": {
      "text/plain": [
       "['대우,1786,3545,3821,NNP,*,F,대우,*,*,*,*,*\\n',\n",
       " '구글,1786,3546,2953,NNP,*,T,구글,*,*,*,*,*\\n',\n",
       " '아디다스,1786,3545,0,NNP,*,F,아디다스,*,*,*,*,*\\n',\n",
       " 'SK매직,1786,3545,0,NNP,*,T,SK매직,*,*,*,*,*\\n',\n",
       " '전자레인지,1786,3545,1,NNP,*,T,전자레인지,*,*,*,*,*\\n',\n",
       " '가성비,1786,3545,2,NNP,*,T,가성비,*,*,*,*,*\\n',\n",
       " '파트너스,1786,3545,3,NNP,*,F,파트너스,*,*,*,*,*\\n',\n",
       " '차일드락,1786,3545,4,NNP,*,T,차일드락,*,*,*,*,*\\n',\n",
       " '토스트기,1786,3545,5,NNP,*,T,토스트기,*,*,*,*,*\\n',\n",
       " '롯데닷컴,1786,3545,6,NNP,*,T,롯데닷컴,*,*,*,*,*\\n',\n",
       " '지마켓,1786,3545,7,NNP,*,T,지마켓,*,*,*,*,*\\n',\n",
       " '에어프라이기,1786,3545,8,NNP,*,F,에어프라이기,*,*,*,*,*\\n',\n",
       " '동양매직,1786,3545,9,NNP,*,T,동양매직,*,*,*,*,*\\n',\n",
       " '최애템,1786,3545,10,NNP,*,T,최애템,*,*,*,*,*\\n',\n",
       " '핫템,1786,3545,11,NNP,*,T,핫템,*,*,*,*,*\\n',\n",
       " '꿀템,1786,3545,12,NNP,*,T,꿀템,*,*,*,*,*\\n',\n",
       " '대박템,1786,3545,13,NNP,*,T,대박템,*,*,*,*,*\\n',\n",
       " '광파오븐,1786,3545,14,NNP,*,T,광파오븐,*,*,*,*,*\\n',\n",
       " '스마일데이,1786,3546,16,NNP,*,T,스마일데이,*,*,*,*,* \\n',\n",
       " '전자식,1786,3545,15,NNP,*,T,전자식,*,*,*,*,*\\n',\n",
       " '로켓배송,1786,3545,16,NNP,*,T,로켓배송,*,*,*,*,*\\n',\n",
       " '복합오븐,1786,3545,17,NNP,*,T,복합오븐,*,*,*,*,*\\n',\n",
       " '멀티오븐,1786,3545,18,NNP,*,T,멀티오븐,*,*,*,*,*\\n',\n",
       " '전기오븐,1786,3545,19,NNP,*,T,전기오븐,*,*,*,*,*\\n',\n",
       " '스팀오븐,1786,3545,20,NNP,*,T,스팀오븐,*,*,*,*,*\\n',\n",
       " '초단위,1786,3545,21,NNP,*,T,초단위,*,*,*,*,*\\n',\n",
       " '분단위,1786,3545,22,NNP,*,T,분단위,*,*,*,*,*\\n',\n",
       " '베이컨,1786,3545,23,NNP,*,T,베이컨,*,*,*,*,*\\n',\n",
       " 'lg,1786,3546,26,NNP,*,T,lg,*,*,*,*,* \\n',\n",
       " 'as,1786,3546,27,NNP,*,T,as,*,*,*,*,* \\n']"
      ]
     },
     "execution_count": 9,
     "metadata": {},
     "output_type": "execute_result"
    }
   ],
   "source": [
    "# file_data[2]='아디다스,1786,3545,0,NNP,*,F,아디다스,*,*,*,*,*\\n'\n",
    "file_data[3]='SK매직,1786,3545,0,NNP,*,T,SK매직,*,*,*,*,*\\n'\n",
    "file_data[4]='전자레인지,1786,3545,1,NNP,*,T,전자레인지,*,*,*,*,*\\n'\n",
    "file_data[5]='가성비,1786,3545,2,NNP,*,T,가성비,*,*,*,*,*\\n'\n",
    "file_data[6]='파트너스,1786,3545,3,NNP,*,F,파트너스,*,*,*,*,*\\n'\n",
    "file_data[7]='차일드락,1786,3545,4,NNP,*,T,차일드락,*,*,*,*,*\\n'\n",
    "file_data[8]='토스트기,1786,3545,5,NNP,*,T,토스트기,*,*,*,*,*\\n'\n",
    "file_data[9]='롯데닷컴,1786,3545,6,NNP,*,T,롯데닷컴,*,*,*,*,*\\n'\n",
    "file_data[10]='지마켓,1786,3545,7,NNP,*,T,지마켓,*,*,*,*,*\\n'\n",
    "file_data[11]='에어프라이기,1786,3545,8,NNP,*,F,에어프라이기,*,*,*,*,*\\n'\n",
    "file_data[12]='동양매직,1786,3545,9,NNP,*,T,동양매직,*,*,*,*,*\\n'\n",
    "file_data[13]='최애템,1786,3545,10,NNP,*,T,최애템,*,*,*,*,*\\n'\n",
    "file_data[14]='핫템,1786,3545,11,NNP,*,T,핫템,*,*,*,*,*\\n'\n",
    "file_data[15]='꿀템,1786,3545,12,NNP,*,T,꿀템,*,*,*,*,*\\n'\n",
    "file_data[16]='대박템,1786,3545,13,NNP,*,T,대박템,*,*,*,*,*\\n'\n",
    "file_data[17]='광파오븐,1786,3545,14,NNP,*,T,광파오븐,*,*,*,*,*\\n'\n",
    "file_data[19]='전자식,1786,3545,15,NNP,*,T,전자식,*,*,*,*,*\\n'\n",
    "file_data[20]='로켓배송,1786,3545,16,NNP,*,T,로켓배송,*,*,*,*,*\\n'\n",
    "file_data[21]='복합오븐,1786,3545,17,NNP,*,T,복합오븐,*,*,*,*,*\\n'\n",
    "file_data[22]='멀티오븐,1786,3545,18,NNP,*,T,멀티오븐,*,*,*,*,*\\n'\n",
    "file_data[23]='전기오븐,1786,3545,19,NNP,*,T,전기오븐,*,*,*,*,*\\n'\n",
    "file_data[24]='스팀오븐,1786,3545,20,NNP,*,T,스팀오븐,*,*,*,*,*\\n'\n",
    "file_data[25]='초단위,1786,3545,21,NNP,*,T,초단위,*,*,*,*,*\\n'\n",
    "file_data[26]='분단위,1786,3545,22,NNP,*,T,분단위,*,*,*,*,*\\n'\n",
    "file_data[27]='베이컨,1786,3545,23,NNP,*,T,베이컨,*,*,*,*,*\\n'\n",
    "\n",
    "with open(\"C:/mecab/mecab-ko-dic/user-nnp.csv\", 'w', encoding='utf-8') as f: \n",
    "    for line in file_data: \n",
    "        f.write(line)\n",
    "with open(\"C:/mecab/mecab-ko-dic/user-nnp.csv\", 'r', encoding='utf-8') as f: \n",
    "    file_data = f.readlines()\n",
    "    \n",
    "file_data \n",
    "# 초 분 중요하다. "
   ]
  },
  {
   "cell_type": "markdown",
   "metadata": {},
   "source": [
    "우선순위를 0으로 바꿔주었고 windows powerShell에서 앞서 다운한 compile-win.ps1을 실행시킵니다.  \n",
    "\n",
    "**.\\tools\\compile-win.ps1**\n"
   ]
  },
  {
   "cell_type": "code",
   "execution_count": 11,
   "metadata": {
    "scrolled": true
   },
   "outputs": [
    {
     "name": "stdout",
     "output_type": "stream",
     "text": [
      "[('가스레인지', 'NNG')]\n",
      "[('전자레인지', 'NNG')]\n"
     ]
    }
   ],
   "source": [
    "# 완료가 되면 이렇게 확인 가능합니다. \n",
    "\n",
    "from konlpy.tag import Mecab\n",
    "\n",
    "mecab=Mecab(dicpath='C:/mecab/mecab-ko-dic')\n",
    "print(mecab.pos('가스레인지'))\n",
    "print(mecab.pos('전자레인지'))"
   ]
  },
  {
   "cell_type": "code",
   "execution_count": 12,
   "metadata": {
    "scrolled": true
   },
   "outputs": [
    {
     "name": "stdout",
     "output_type": "stream",
     "text": [
      "[('SK매직', 'NNP')]\n",
      "[('가성비', 'NNP')]\n",
      "[('스팀오븐', 'NNP')]\n",
      "[('에어프라이기', 'NNP')]\n",
      "[('LG', 'NNP')]\n"
     ]
    }
   ],
   "source": [
    "# 완료가 되면 이렇게 확인 가능합니다. \n",
    "\n",
    "from konlpy.tag import Mecab\n",
    "\n",
    "mecab=Mecab(dicpath='C:/mecab/mecab-ko-dic')\n",
    "print(mecab.pos('SK매직'))\n",
    "print(mecab.pos('가성비'))\n",
    "print(mecab.pos('스팀오븐'))\n",
    "print(mecab.pos('에어프라이기')) \n",
    "print(mecab.pos('LG'))\n"
   ]
  },
  {
   "cell_type": "markdown",
   "metadata": {},
   "source": [
    "## 1.3. 한국어 자연어 처리"
   ]
  },
  {
   "cell_type": "markdown",
   "metadata": {},
   "source": [
    "### 1) 텍스트 수집한 데이터 파일 불러오기\n",
    "\n"
   ]
  },
  {
   "cell_type": "code",
   "execution_count": 2,
   "metadata": {
    "scrolled": true
   },
   "outputs": [],
   "source": [
    "# 필요한 데이터 처리를 위해 필요한 라이브러리를 탑재(import) 한다.\n",
    "\n",
    "import re\n",
    "import json\n",
    "import pandas as pd\n",
    "import xlsxwriter\n",
    "import numpy as np"
   ]
  },
  {
   "cell_type": "markdown",
   "metadata": {},
   "source": [
    "### option A: 네이버 블로그 csv파일 불러올 때는 이하의 코드를 실행한 후 optionB (쇼핑후기) 코드는 건너뛰고 바로 공통 코드로 이동"
   ]
  },
  {
   "cell_type": "code",
   "execution_count": 42,
   "metadata": {},
   "outputs": [],
   "source": [
    "blog_df = pd.read_csv('SK_Microwave(블로그).csv', encoding='utf-8-sig') # 네이버 블로그 csv파일 불러오기"
   ]
  },
  {
   "cell_type": "code",
   "execution_count": 43,
   "metadata": {},
   "outputs": [],
   "source": [
    "blog_df = blog_df.sort_values(by='Post Date' ,ascending=True) # post Date를 기준으로 오름차순으로 정렬\n",
    "blog_df['Post Date'] = [str(dates).replace('.0','') for dates in blog_df['Post Date']] # 분석을 위해서 날짜의 형식을 변경함. "
   ]
  },
  {
   "cell_type": "code",
   "execution_count": 44,
   "metadata": {},
   "outputs": [
    {
     "data": {
      "text/html": [
       "<div>\n",
       "<style scoped>\n",
       "    .dataframe tbody tr th:only-of-type {\n",
       "        vertical-align: middle;\n",
       "    }\n",
       "\n",
       "    .dataframe tbody tr th {\n",
       "        vertical-align: top;\n",
       "    }\n",
       "\n",
       "    .dataframe thead th {\n",
       "        text-align: right;\n",
       "    }\n",
       "</style>\n",
       "<table border=\"1\" class=\"dataframe\">\n",
       "  <thead>\n",
       "    <tr style=\"text-align: right;\">\n",
       "      <th></th>\n",
       "      <th>Title</th>\n",
       "      <th>Link</th>\n",
       "      <th>Description</th>\n",
       "      <th>Blogger Name</th>\n",
       "      <th>Blogger Link</th>\n",
       "      <th>Post Date</th>\n",
       "      <th>Post Contents</th>\n",
       "    </tr>\n",
       "  </thead>\n",
       "  <tbody>\n",
       "    <tr>\n",
       "      <th>397</th>\n",
       "      <td>SK 매직 전자레인지 구매 후기</td>\n",
       "      <td>https://blog.naver.com/bansal550223?Redirect=L...</td>\n",
       "      <td>떡하니 매직이라고 인쇄 되어있고 뒤엔 KC마크가 듬직합니다. 어? 왜 설명서가 없지...</td>\n",
       "      <td>카러브맨</td>\n",
       "      <td>https://blog.naver.com/bansal550223</td>\n",
       "      <td>20161214</td>\n",
       "      <td>\\n\\n전자레인지 구매 후기 ~안녕하세요 카러브입니다.기다리고 기다리던 전자레인지가...</td>\n",
       "    </tr>\n",
       "    <tr>\n",
       "      <th>414</th>\n",
       "      <td>11번가 SK매직 전자레인지 MWO-230KG 신제품 런칭기념 이벤트</td>\n",
       "      <td>https://blog.naver.com/minseok0823?Redirect=Lo...</td>\n",
       "      <td>오늘은 SK매직 전자레인지 신제품 런칭 이밴트로 찾아왔습니다. 따끈따끈한 2017년...</td>\n",
       "      <td>THE MAGIC (TMG)</td>\n",
       "      <td>https://blog.naver.com/minseok0823</td>\n",
       "      <td>20170118</td>\n",
       "      <td>\\n\\n﻿﻿안녕하세요!​ 오늘은 SK매직 전자레인지 신제품 런칭 이밴트로 찾아왔습니...</td>\n",
       "    </tr>\n",
       "    <tr>\n",
       "      <th>519</th>\n",
       "      <td>[전자레인지] SK매직 전자레인지 MWO-20M7 스마트한 요리을...</td>\n",
       "      <td>https://blog.naver.com/minseok0823?Redirect=Lo...</td>\n",
       "      <td>스마트한 요리를 위한 선택 SK매직 전자레인지 대표모델 MWO-20M7 간편한 요리...</td>\n",
       "      <td>THE MAGIC (TMG)</td>\n",
       "      <td>https://blog.naver.com/minseok0823</td>\n",
       "      <td>20170123</td>\n",
       "      <td>\\n\\n스마트한 요리를 위한 선택SK매직 전자레인지 대표모델MWO-20M7간편한 요...</td>\n",
       "    </tr>\n",
       "    <tr>\n",
       "      <th>92</th>\n",
       "      <td>기본 성능이 뛰어나다! SK매직 전자레인지 MWO-230KG 후기!!</td>\n",
       "      <td>https://blog.naver.com/whitepolarbear?Redirect...</td>\n",
       "      <td>음식을 데우고 해동하는 기능이 뛰어난 SK매직 전자레인지 MWO-230KG 후기를 ...</td>\n",
       "      <td>하얀 북극곰의 일상</td>\n",
       "      <td>https://blog.naver.com/whitepolarbear</td>\n",
       "      <td>20170210</td>\n",
       "      <td>\\n\\n\\n\\n\\n\\n\\n\\n\\n\\n\\n\\n\\n\\n\\n생활용품\\n\\n\\n\\n\\n\\n...</td>\n",
       "    </tr>\n",
       "    <tr>\n",
       "      <th>88</th>\n",
       "      <td>간편한 조리는 SK매직 전자레인지 MWO-23KG</td>\n",
       "      <td>https://blog.naver.com/2pnn?Redirect=Log&amp;logNo...</td>\n",
       "      <td>그동안 전자레인지 없이 살아왔는데 하나 있어야겠더군요. 이번에 저희 집에 들어온 식...</td>\n",
       "      <td>아이작군의 Life 속으로</td>\n",
       "      <td>https://blog.naver.com/2pnn</td>\n",
       "      <td>20170212</td>\n",
       "      <td>\\n\\n\\n\\n\\n\\n\\n\\n\\n\\n\\n\\n\\n\\n\\n인테리어\\n\\n\\n\\n\\n\\n...</td>\n",
       "    </tr>\n",
       "  </tbody>\n",
       "</table>\n",
       "</div>"
      ],
      "text/plain": [
       "                                        Title  \\\n",
       "397                         SK 매직 전자레인지 구매 후기   \n",
       "414    11번가 SK매직 전자레인지 MWO-230KG 신제품 런칭기념 이벤트   \n",
       "519  [전자레인지] SK매직 전자레인지 MWO-20M7 스마트한 요리을...    \n",
       "92     기본 성능이 뛰어나다! SK매직 전자레인지 MWO-230KG 후기!!   \n",
       "88                간편한 조리는 SK매직 전자레인지 MWO-23KG   \n",
       "\n",
       "                                                  Link  \\\n",
       "397  https://blog.naver.com/bansal550223?Redirect=L...   \n",
       "414  https://blog.naver.com/minseok0823?Redirect=Lo...   \n",
       "519  https://blog.naver.com/minseok0823?Redirect=Lo...   \n",
       "92   https://blog.naver.com/whitepolarbear?Redirect...   \n",
       "88   https://blog.naver.com/2pnn?Redirect=Log&logNo...   \n",
       "\n",
       "                                           Description     Blogger Name  \\\n",
       "397  떡하니 매직이라고 인쇄 되어있고 뒤엔 KC마크가 듬직합니다. 어? 왜 설명서가 없지...             카러브맨   \n",
       "414  오늘은 SK매직 전자레인지 신제품 런칭 이밴트로 찾아왔습니다. 따끈따끈한 2017년...  THE MAGIC (TMG)   \n",
       "519  스마트한 요리를 위한 선택 SK매직 전자레인지 대표모델 MWO-20M7 간편한 요리...  THE MAGIC (TMG)   \n",
       "92   음식을 데우고 해동하는 기능이 뛰어난 SK매직 전자레인지 MWO-230KG 후기를 ...       하얀 북극곰의 일상   \n",
       "88   그동안 전자레인지 없이 살아왔는데 하나 있어야겠더군요. 이번에 저희 집에 들어온 식...   아이작군의 Life 속으로   \n",
       "\n",
       "                              Blogger Link Post Date  \\\n",
       "397    https://blog.naver.com/bansal550223  20161214   \n",
       "414     https://blog.naver.com/minseok0823  20170118   \n",
       "519     https://blog.naver.com/minseok0823  20170123   \n",
       "92   https://blog.naver.com/whitepolarbear  20170210   \n",
       "88             https://blog.naver.com/2pnn  20170212   \n",
       "\n",
       "                                         Post Contents  \n",
       "397  \\n\\n전자레인지 구매 후기 ~안녕하세요 카러브입니다.기다리고 기다리던 전자레인지가...  \n",
       "414  \\n\\n﻿﻿안녕하세요!​ 오늘은 SK매직 전자레인지 신제품 런칭 이밴트로 찾아왔습니...  \n",
       "519  \\n\\n스마트한 요리를 위한 선택SK매직 전자레인지 대표모델MWO-20M7간편한 요...  \n",
       "92   \\n\\n\\n\\n\\n\\n\\n\\n\\n\\n\\n\\n\\n\\n\\n생활용품\\n\\n\\n\\n\\n\\n...  \n",
       "88   \\n\\n\\n\\n\\n\\n\\n\\n\\n\\n\\n\\n\\n\\n\\n인테리어\\n\\n\\n\\n\\n\\n...  "
      ]
     },
     "execution_count": 44,
     "metadata": {},
     "output_type": "execute_result"
    }
   ],
   "source": [
    "blog_df.head()"
   ]
  },
  {
   "cell_type": "code",
   "execution_count": 45,
   "metadata": {},
   "outputs": [
    {
     "name": "stdout",
     "output_type": "stream",
     "text": [
      "[] \n",
      "\n",
      "(570, 7)\n"
     ]
    }
   ],
   "source": [
    "# 문서에 'Post Date'에서 빈칸을 nan (빈데이터)를 찾아주고 삭제해주는 과정 = 나중에 분석에 오류를 없애기 위해서\n",
    "drop_index = blog_df['Post Date'][blog_df['Post Date']=='nan'].index\n",
    "d = [d for d in drop_index] \n",
    "print(d, '\\n') # 아래 결과 예) 751 번째 행의 날짜가 nan으로 표시 되어있음을 알 수 있음. \n",
    "\n",
    "blog_df.drop(d, axis=0, inplace=True) # nan 데이터가 있는 행을 삭제해줌.\n",
    "print(blog_df.shape)"
   ]
  },
  {
   "cell_type": "code",
   "execution_count": 46,
   "metadata": {},
   "outputs": [
    {
     "data": {
      "text/plain": [
       "397    SK 매직 전자레인지 구매 후기 떡하니 매직이라고 인쇄 되어있고 뒤엔 KC마크가 듬...\n",
       "414    11번가 SK매직 전자레인지 MWO-230KG 신제품 런칭기념 이벤트 오늘은 SK매...\n",
       "519    [전자레인지] SK매직 전자레인지 MWO-20M7 스마트한 요리을...  스마트한 ...\n",
       "92     기본 성능이 뛰어나다! SK매직 전자레인지 MWO-230KG 후기!! 음식을 데우고...\n",
       "88     간편한 조리는 SK매직 전자레인지 MWO-23KG 그동안 전자레인지 없이 살아왔는데...\n",
       "                             ...                        \n",
       "236    개성있는 SK매직 자동요리 전자식 전자레인지 선택해하셔요 11시 1분 6초 포스팅 ...\n",
       "320    모두가 추천하는 SK매직 ALL IN ONE 멀티오븐 전자레인지...  모두가 추천...\n",
       "131    요즘인기인 SK매직 ALL IN ONE 멀티오븐 전자레인지 버튼...  #멀티오븐 ...\n",
       "510    EONB401SA SK매직 빌트인 스팀 오븐 프리미엄 살려드립니다 SK매직 스팀 오...\n",
       "503    부산정수기렌탈 SK매직의 놀라움! 부산정수기렌탈 SK매직의 놀라움! 여러분 안녕하세...\n",
       "Length: 570, dtype: object"
      ]
     },
     "execution_count": 46,
     "metadata": {},
     "output_type": "execute_result"
    }
   ],
   "source": [
    "# 필요한 부분만 편집해서 가져오기. \n",
    "# 블로그 데이터 파일에서 블로그 제목인 'Title'과 블로그 내용인 'Description' 및 게시일인 'Post Date'에 해당하는 부분만 가져와 저장.\n",
    "tm_post = blog_df.get('Title') + \" \" + blog_df.get('Description')\n",
    "tm_post_date = blog_df.get('Post Date')\n",
    "\n",
    "tm_post"
   ]
  },
  {
   "cell_type": "code",
   "execution_count": 47,
   "metadata": {},
   "outputs": [],
   "source": [
    "# tm_post_date "
   ]
  },
  {
   "cell_type": "markdown",
   "metadata": {},
   "source": [
    "### 아예 잘못된 크롤링 행 찾기 "
   ]
  },
  {
   "cell_type": "code",
   "execution_count": 48,
   "metadata": {},
   "outputs": [
    {
     "name": "stdout",
     "output_type": "stream",
     "text": [
      "프로쉬 인덕션 클리너 : sk매직 하이라이트 청소 클리너 sk매직 인덕션 찌든때 없애기 오늘은 인덕션 세정제로 유명한 프로쉬 레몬 인덕션 다목적 클리너 리뷰하겠습니다 :D 프로쉬 레몬 인덕션 다목적 클리너 인덕션 뿐 아니라, 에어프라이어, 전자레인지... \n"
     ]
    }
   ],
   "source": [
    "print(tm_post[319])"
   ]
  },
  {
   "cell_type": "code",
   "execution_count": 49,
   "metadata": {},
   "outputs": [
    {
     "name": "stdout",
     "output_type": "stream",
     "text": [
      "sk매직 인덕션 청소 프로쉬 레몬다목적클리너로 깨끗, 깔끔하게! 저는 sk매직 인덕션 사용하는데요, 인덕션2구 + 가스레인지 1구인 모델이에요. 사용한지는 1년이... 일단은 전자레인지 청소도 해봤습니다. 굳어버린 오염된 부분은 스크래퍼로 속시원하게 긁어줬어요. 그리고... \n"
     ]
    }
   ],
   "source": [
    "print(tm_post[517])"
   ]
  },
  {
   "cell_type": "code",
   "execution_count": 50,
   "metadata": {},
   "outputs": [
    {
     "name": "stdout",
     "output_type": "stream",
     "text": [
      "부산정수기렌탈 SK매직의 놀라움! 부산정수기렌탈 SK매직의 놀라움! 여러분 안녕하세요!^^ 여러분들이 저의 블로그에 방문하신 이유라면... 커피포트,커피머신기, 전자레인지 등등 다양한 주방 가전 제품들을 정수기 옆에 두어도 전면 필터 배치로... \n"
     ]
    }
   ],
   "source": [
    "print(tm_post[503])"
   ]
  },
  {
   "cell_type": "code",
   "execution_count": 51,
   "metadata": {},
   "outputs": [],
   "source": [
    "import pandas as pd"
   ]
  },
  {
   "cell_type": "code",
   "execution_count": 52,
   "metadata": {},
   "outputs": [],
   "source": [
    "tm_post = tm_post.drop(index = [319,503,517], axis = 0) "
   ]
  },
  {
   "cell_type": "code",
   "execution_count": 53,
   "metadata": {},
   "outputs": [
    {
     "data": {
      "text/plain": [
       "397    SK 매직 전자레인지 구매 후기 떡하니 매직이라고 인쇄 되어있고 뒤엔 KC마크가 듬...\n",
       "414    11번가 SK매직 전자레인지 MWO-230KG 신제품 런칭기념 이벤트 오늘은 SK매...\n",
       "519    [전자레인지] SK매직 전자레인지 MWO-20M7 스마트한 요리을...  스마트한 ...\n",
       "92     기본 성능이 뛰어나다! SK매직 전자레인지 MWO-230KG 후기!! 음식을 데우고...\n",
       "88     간편한 조리는 SK매직 전자레인지 MWO-23KG 그동안 전자레인지 없이 살아왔는데...\n",
       "                             ...                        \n",
       "102    SK매직 고급형 전자레인지 20L MWO-20EC2 담소 SK매직 고급형 전자레인지...\n",
       "236    개성있는 SK매직 자동요리 전자식 전자레인지 선택해하셔요 11시 1분 6초 포스팅 ...\n",
       "320    모두가 추천하는 SK매직 ALL IN ONE 멀티오븐 전자레인지...  모두가 추천...\n",
       "131    요즘인기인 SK매직 ALL IN ONE 멀티오븐 전자레인지 버튼...  #멀티오븐 ...\n",
       "510    EONB401SA SK매직 빌트인 스팀 오븐 프리미엄 살려드립니다 SK매직 스팀 오...\n",
       "Length: 567, dtype: object"
      ]
     },
     "execution_count": 53,
     "metadata": {},
     "output_type": "execute_result"
    }
   ],
   "source": [
    "tm_post"
   ]
  },
  {
   "cell_type": "markdown",
   "metadata": {},
   "source": [
    "### 공통: 여기에서부터는 optionA (블로그) 및 optionB(쇼핑후기) 공통으로 진행하는 코드 "
   ]
  },
  {
   "cell_type": "code",
   "execution_count": 54,
   "metadata": {},
   "outputs": [
    {
     "data": {
      "text/plain": [
       "397    SK 매직 전자레인지 구매 후기 떡하니 매직이라고 인쇄 되어있고 뒤엔 KC마크가 듬...\n",
       "414    11번가 SK매직 전자레인지 MWO-230KG 신제품 런칭기념 이벤트 오늘은 SK매...\n",
       "519    [전자레인지] SK매직 전자레인지 MWO-20M7 스마트한 요리을...  스마트한 ...\n",
       "92     기본 성능이 뛰어나다! SK매직 전자레인지 MWO-230KG 후기!! 음식을 데우고...\n",
       "88     간편한 조리는 SK매직 전자레인지 MWO-23KG 그동안 전자레인지 없이 살아왔는데...\n",
       "dtype: object"
      ]
     },
     "execution_count": 54,
     "metadata": {},
     "output_type": "execute_result"
    }
   ],
   "source": [
    "tm_post.head()  # 첫 5행 보여주기"
   ]
  },
  {
   "cell_type": "code",
   "execution_count": 55,
   "metadata": {
    "tags": []
   },
   "outputs": [
    {
     "data": {
      "text/plain": [
       "102    SK매직 고급형 전자레인지 20L MWO-20EC2 담소 SK매직 고급형 전자레인지...\n",
       "236    개성있는 SK매직 자동요리 전자식 전자레인지 선택해하셔요 11시 1분 6초 포스팅 ...\n",
       "320    모두가 추천하는 SK매직 ALL IN ONE 멀티오븐 전자레인지...  모두가 추천...\n",
       "131    요즘인기인 SK매직 ALL IN ONE 멀티오븐 전자레인지 버튼...  #멀티오븐 ...\n",
       "510    EONB401SA SK매직 빌트인 스팀 오븐 프리미엄 살려드립니다 SK매직 스팀 오...\n",
       "dtype: object"
      ]
     },
     "execution_count": 55,
     "metadata": {},
     "output_type": "execute_result"
    }
   ],
   "source": [
    "tm_post.tail()  # 마지막 5행 보여주기"
   ]
  },
  {
   "cell_type": "code",
   "execution_count": 56,
   "metadata": {},
   "outputs": [
    {
     "data": {
      "text/plain": [
       "236    20211011\n",
       "320    20211011\n",
       "131    20211011\n",
       "510    20211013\n",
       "503    20211014\n",
       "Name: Post Date, dtype: object"
      ]
     },
     "execution_count": 56,
     "metadata": {},
     "output_type": "execute_result"
    }
   ],
   "source": [
    "tm_post_date.tail()  # 게시날짜 마지막 5행 보여주기"
   ]
  },
  {
   "cell_type": "code",
   "execution_count": 57,
   "metadata": {},
   "outputs": [
    {
     "data": {
      "text/plain": [
       "'20211014'"
      ]
     },
     "execution_count": 57,
     "metadata": {},
     "output_type": "execute_result"
    }
   ],
   "source": [
    "tm_post_date.max()   # 최대 날짜 (가장 최근 데이터)"
   ]
  },
  {
   "cell_type": "code",
   "execution_count": 58,
   "metadata": {},
   "outputs": [
    {
     "data": {
      "text/plain": [
       "'20161214'"
      ]
     },
     "execution_count": 58,
     "metadata": {},
     "output_type": "execute_result"
    }
   ],
   "source": [
    "tm_post_date.min()  # 최소 날짜 (가장 오래된 데이터)"
   ]
  },
  {
   "cell_type": "code",
   "execution_count": 59,
   "metadata": {
    "tags": []
   },
   "outputs": [
    {
     "name": "stdout",
     "output_type": "stream",
     "text": [
      "False\n",
      "0\n"
     ]
    }
   ],
   "source": [
    "# tm_post 전처리\n",
    "\n",
    "print(tm_post.isnull().values.any()) # 빈 행이 있는지 확인하기 ( 뒤에 에러가 날 수 있음 ) \n",
    "print(tm_post.isnull().sum()) # null 값이 총 몇개가 있는지 확인 \n",
    "\n",
    "tm_post = tm_post.dropna(how = 'any') # Null 값이 존재하는 행을 제거"
   ]
  },
  {
   "cell_type": "code",
   "execution_count": 60,
   "metadata": {},
   "outputs": [
    {
     "data": {
      "text/plain": [
       "567"
      ]
     },
     "execution_count": 60,
     "metadata": {},
     "output_type": "execute_result"
    }
   ],
   "source": [
    "len(tm_post)\n"
   ]
  },
  {
   "cell_type": "markdown",
   "metadata": {},
   "source": [
    "### 유사어 통폐합 "
   ]
  },
  {
   "cell_type": "code",
   "execution_count": 61,
   "metadata": {},
   "outputs": [],
   "source": [
    "# import re\n",
    "\n",
    "# def cleanText(datas): # 단어 전처리\n",
    "#     data1 = re.sub('[^A-Za-z0-9가-힣;,.?!]', ' ', datas)\n",
    "#     data1 = data1.lower() # 영어 소문자로 변환\n",
    "#     data1 = data1.replace(' 가스레인지', ' 가스레인지 ') #검색어 띄어쓰기 붙여주기\n",
    "#     data1 = data1.replace('가스레인지 ', ' 가스레인지 ') #검색어 띄어쓰기 붙여주기\n",
    "#     data1 = data1.replace('  ', ' ')\n",
    "#     data1 = data1.replace('렌지', '레인지')\n",
    "#     data2 = data1.split()\n",
    "#     return data1"
   ]
  },
  {
   "cell_type": "code",
   "execution_count": 62,
   "metadata": {},
   "outputs": [],
   "source": [
    "import re\n",
    "\n",
    "def cleanText(datas): # 단어 전처리\n",
    "    data1 = re.sub('[^A-Za-z0-9가-힣;,.?!]', ' ', datas)\n",
    "    data1 = data1.lower() # 영어 소문자로 변환 \n",
    "    data1 = data1.replace(' 전자레인지', ' 전자레인지 ') #검색어 띄어쓰기 붙여주기\n",
    "    data1 = data1.replace('전자레인지 ', ' 전자레인지 ') #검색어 띄어쓰기 붙여주기\n",
    "    data1 = data1.replace('  ', ' ')\n",
    "    data1 = data1.replace('렌지', '레인지')\n",
    "    data1 = data1.replace('매직', 'SK매직')\n",
    "    data1 = data1.replace('프라이', '에어프라이기')\n",
    "    data1 = data1.replace('삼성', '삼성전자')\n",
    "    data1 = data1.replace('동양', '동양매직')\n",
    "    data2 = data1.split()\n",
    "    return data1"
   ]
  },
  {
   "cell_type": "code",
   "execution_count": 63,
   "metadata": {},
   "outputs": [],
   "source": [
    "import re\n",
    "\n",
    "def cleanText(datas): # 단어 전처리\n",
    "    data1 = re.sub('[^A-Za-z0-9가-힣;,.?!]', ' ', datas)\n",
    "    data1 = data1.lower() # 영어 소문자로 변환 \n",
    "    data1 = data1.replace(' 전자레인지', ' 전자레인지 ') #검색어 띄어쓰기 붙여주기\n",
    "    data1 = data1.replace('전자레인지 ', ' 전자레인지 ') #검색어 띄어쓰기 붙여주기\n",
    "    data1 = data1.replace('  ', ' ')\n",
    "    data1 = data1.replace('렌지', '레인지')\n",
    "    data1 = data1.replace('매직', 'SK매직')\n",
    "    data1 = data1.replace('프라이', '에어프라이기')\n",
    "    data1 = data1.replace('삼성', '삼성전자')\n",
    "    data1 = data1.replace('동양', '동양매직')\n",
    "    data1 = data1.replace('자취방', '자취')\n",
    "    data1 = data1.replace('자취생', '자취')\n",
    "    data2 = data1.split()\n",
    "    return data1"
   ]
  },
  {
   "cell_type": "code",
   "execution_count": 64,
   "metadata": {},
   "outputs": [
    {
     "data": {
      "text/plain": [
       "['sk SK매직 전자레인지 구매 후기 떡하니 SK매직이라고 인쇄 되어있고 뒤엔 kc마크가 듬직합니다. 어? 왜 설명서가 없지 했는데 전자레인지 내부에 있었습니다. 설마 했습니다. 유리 돌림판과 설명서가 있으니 조립을 해봐야겠습니다. 딱 심플... ',\n",
       " '11번가 skSK매직 전자레인지 mwo 230kg 신제품 런칭기념 이벤트 오늘은 skSK매직 전자레인지 신제품 런칭 이밴트로 찾아왔습니다. 따끈따끈한 2017년형 모델이... 120명에게 전자레인지 용기 포토 후기를 남기면 추첨을 통해 20명에게 skSK매직제품 믹서기를... ',\n",
       " ' 전자레인지  skSK매직 전자레인지 mwo 20m7 스마트한 요리을... 스마트한 요리를 위한 선택 skSK매직 전자레인지 대표모델 mwo 20m7 간편한 요리를 위한 전자레인지 mwo 20m7 입니다. mwo 20m7']"
      ]
     },
     "execution_count": 64,
     "metadata": {},
     "output_type": "execute_result"
    }
   ],
   "source": [
    "tm_posts =[]\n",
    "for posts in tm_post:\n",
    "    post = cleanText(posts)\n",
    "    post1 = ' '.join(post)\n",
    "    tm_posts.append(post)\n",
    "    \n",
    "tm_posts[:3]"
   ]
  },
  {
   "cell_type": "code",
   "execution_count": 65,
   "metadata": {
    "tags": []
   },
   "outputs": [
    {
     "data": {
      "text/plain": [
       "['sk SK매직 전자레인지 구매 후기 떡하니 SK매직이라고 인쇄 되어있고 뒤엔 kc마크가 듬직합니다. 어? 왜 설명서가 없지 했는데 전자레인지 내부에 있었습니다. 설마 했습니다. 유리 돌림판과 설명서가 있으니 조립을 해봐야겠습니다. 딱 심플... ',\n",
       " '11번가 skSK매직 전자레인지 mwo 230kg 신제품 런칭기념 이벤트 오늘은 skSK매직 전자레인지 신제품 런칭 이밴트로 찾아왔습니다. 따끈따끈한 2017년형 모델이... 120명에게 전자레인지 용기 포토 후기를 남기면 추첨을 통해 20명에게 skSK매직제품 믹서기를... ',\n",
       " ' 전자레인지  skSK매직 전자레인지 mwo 20m7 스마트한 요리을... 스마트한 요리를 위한 선택 skSK매직 전자레인지 대표모델 mwo 20m7 간편한 요리를 위한 전자레인지 mwo 20m7 입니다. mwo 20m7']"
      ]
     },
     "execution_count": 65,
     "metadata": {},
     "output_type": "execute_result"
    }
   ],
   "source": [
    "tm_posts = []\n",
    "for posts in tm_post:\n",
    "    post = cleanText(posts)\n",
    "    post1 = ' '.join(post)\n",
    "    tm_posts.append(post)\n",
    "    \n",
    "tm_posts[:3]"
   ]
  },
  {
   "cell_type": "markdown",
   "metadata": {},
   "source": [
    "### 3) 형태소분석 후 불용어 제거하고 명사 추출하기\n",
    "\n"
   ]
  },
  {
   "cell_type": "code",
   "execution_count": 66,
   "metadata": {},
   "outputs": [],
   "source": [
    "# 형태소 분석기 Mecab 불러오기\n",
    "\n",
    "from konlpy.tag import Mecab\n",
    "\n",
    "tagger = Mecab(dicpath='C:/mecab/mecab-ko-dic')"
   ]
  },
  {
   "cell_type": "markdown",
   "metadata": {},
   "source": [
    "#### 불용어(Stopwords) 사전 만들기\n"
   ]
  },
  {
   "cell_type": "code",
   "execution_count": 67,
   "metadata": {},
   "outputs": [
    {
     "name": "stdout",
     "output_type": "stream",
     "text": [
      "['식', '다음', '때문', '원', '만', '비', '시', '정도', '년', '평', '매직', '이걸', '건데', '끼', '덤', '호', '처', '넌', '저작', '어디', '딜', '차제', '링', '마', '용', '세기', '전자', '레인지', '대백과', '모델', '편', '겸', '건네', '타입', '작성', '에어', '확인', '금일', '업소', '기준', '폼', '풍동', '내산', '타입', '월', '디오스', '하나', '돈', '가전', '번호', '침', '그때', '주전', '슝', '왕', '실', '이제', '라온', '합', '에스', '쉐어', '아일랜드', '의', '벽', '배', '세', '랜드', '떨이', '中', '바', '건', '거기', '이번', '등', '점', '리', '밑', '슝', '떨', '저', '것', '후', '날', '맘', '게', '전', '중', '수', '내', '거', '일', '중', '박', '종', '글', '가지', '요즘', '때', '나', '구', '위', '번', '기이기', '제', '명', '번', '개', '듯', '달', '이', '문', '안', '구', '나', '말', '달', '수아', '율', '슝', '이때', '작', '컨', '데', '듯', '션', '안', '기', '갑', '간', '법', '판', '닷컴', '몰', '곳', '걸', '기', '입니다', '지', '장', '벡', '주', '남', '로', '겟', '달', '메', '힌', '할', '요걸로', '', '당', '컴', '부', '조', '쓰', '첸', '데움', '외', 'ㄷ', '무엇', '망', '하심', '놓', '랙', '하', '크롬', '스와', '팟', '드', '리스', '너', '쟌', '줄', '렌', '단', '렴', '꺼', '난', '색', '랑', '리', '상', '천', '걸로', '맨', '반', '진영', '가심', '를', '질', '언', '채', '급', '통', '', '', '성애', '저기', '듯이', '여기저기', '떨', '지기', '산점', '에프', '', '서이', '', '뿐', '', '속', '등등', '대', '도', '트', '직수', '인']\n"
     ]
    }
   ],
   "source": [
    "# 내꺼 \n",
    "tm_stop_words = \"식 다음 때문 원 만 비 시 정도 년 평 매직 이걸 건데 끼 덤 호 처 넌 저작 어디 딜 차제 링 마 용 세기 전자 레인지 대백과 모델 편 겸 건네 타입 작성 에어 확인 금일 업소 기준 폼 풍동 내산 타입 월 디오스 하나 돈 가전 번호 침 그때 주전 슝 왕 실 이제 라온 합 에스 쉐어 아일랜드 의 벽 배 세 랜드 떨이 中 바 건 거기 이번 등 점 리 밑 슝 떨 저 것 후 날 맘 게 전 중 수 내 거 일 중 박 종 글 가지 요즘 때 나 구 위 번 기이기 제 명 번 개 듯 달 이 문 안 구 나 말 달 수아 율 슝 이때 작 컨 데 듯 션 안 기 갑 간 법 판 닷컴 몰 곳 걸 기 입니다 지 장 벡 주 남 로 겟 달 메 힌 할 요걸로  당 컴 부 조 쓰 첸 데움 외 ㄷ 무엇 망 하심 놓 랙 하 크롬 스와 팟 드 리스 너 쟌 줄 렌 단 렴 꺼 난 색 랑 리 상 천 걸로 맨 반 진영 가심 를 질 언 채 급 통   성애 저기 듯이 여기저기 떨 지기 산점 에프  서이  뿐  속 등등 대 도 트 직수 인\"\n",
    "tm_stop_words = tm_stop_words.split(' ')\n",
    "print(tm_stop_words) # 초 분 살리기 "
   ]
  },
  {
   "cell_type": "markdown",
   "metadata": {},
   "source": [
    "#### 불용어를 제외하여 형태소 분석 수행\n",
    "\n",
    "mecab을 이용하여 한글 텍스트에 대해서 불용어를 제외한 형태소 분석을 수행하고, 그중에서 명사만 추출한다. "
   ]
  },
  {
   "cell_type": "markdown",
   "metadata": {},
   "source": [
    "- 복합어(예 \"가스레인지\")를 형태소로 추가하려면 앞의 mecab 사용자 사전에 추가\n",
    "\n"
   ]
  },
  {
   "cell_type": "code",
   "execution_count": 68,
   "metadata": {
    "scrolled": true,
    "tags": []
   },
   "outputs": [
    {
     "data": {
      "text/plain": [
       "[('sk', 'SL'),\n",
       " ('SK매직', 'NNP'),\n",
       " ('전자레인지', 'NNG'),\n",
       " ('구매', 'NNG'),\n",
       " ('후기', 'NNG'),\n",
       " ('떡하니', 'MAG'),\n",
       " ('SK매직', 'NNP'),\n",
       " ('이', 'VCP'),\n",
       " ('라고', 'EC'),\n",
       " ('인쇄', 'NNG')]"
      ]
     },
     "execution_count": 68,
     "metadata": {},
     "output_type": "execute_result"
    }
   ],
   "source": [
    "# 불용어를 제외한 텍스트의 형태소 분석 수행\n",
    "\n",
    "words = []\n",
    "for post in tm_posts:\n",
    "    words.extend(tagger.pos(post))\n",
    "    \n",
    "words[0:10]"
   ]
  },
  {
   "cell_type": "code",
   "execution_count": 41,
   "metadata": {
    "scrolled": true
   },
   "outputs": [
    {
     "data": {
      "text/plain": [
       "['SK매직', '전자레인지', '구매', '후기', 'SK매직', '인쇄', '뒤', '마크', '설명서', '전자레인지']"
      ]
     },
     "execution_count": 41,
     "metadata": {},
     "output_type": "execute_result"
    }
   ],
   "source": [
    "tm_nouns = []   # 명사 추출하기\n",
    "for post in tm_posts:\n",
    "        if type(post) == str:\n",
    "            for noun in tagger.nouns(post):\n",
    "                if noun not in tm_stop_words:\n",
    "                    tm_nouns.append(noun)\n",
    "            \n",
    "tm_nouns[0:10]"
   ]
  },
  {
   "cell_type": "markdown",
   "metadata": {},
   "source": [
    "# 2. 핵심어 분석 (Keyword Analysis)\n"
   ]
  },
  {
   "cell_type": "markdown",
   "metadata": {},
   "source": [
    "## 2.1. 핵심어 단순빈도 분석\n"
   ]
  },
  {
   "cell_type": "markdown",
   "metadata": {},
   "source": [
    "### 1) 명사 추출하고 단순빈도 분석하기\n",
    "갯수를 파악하기 위해서 Counter 라이브러리를 import한다. 그리고 전처리된 텍스트로부터 명사의 갯수를 파악하기 위해 Counter(nouns) 결과를 저장한 후, most_common(30)함수를 이용하여 상위 30개의 명사에 대해서만 출력하여 결과를 확인한다."
   ]
  },
  {
   "cell_type": "code",
   "execution_count": 42,
   "metadata": {},
   "outputs": [
    {
     "data": {
      "text/plain": [
       "[('전자레인지', 1735),\n",
       " ('제품', 219),\n",
       " ('오븐', 201),\n",
       " ('구매', 165),\n",
       " ('추천', 164),\n",
       " ('다이얼', 145),\n",
       " ('SK매직', 143),\n",
       " ('사용', 141),\n",
       " ('고급', 134),\n",
       " ('요리', 128),\n",
       " ('후기', 127),\n",
       " ('기능', 107),\n",
       " ('가성비', 99),\n",
       " ('광파오븐', 89),\n",
       " ('버튼', 88),\n",
       " ('에어프라이기', 76),\n",
       " ('분', 74),\n",
       " ('자동', 73),\n",
       " ('가격', 71),\n",
       " ('구입', 69),\n",
       " ('집', 68),\n",
       " ('상품', 66),\n",
       " ('초', 62),\n",
       " ('자취', 61),\n",
       " ('전자식', 61),\n",
       " ('디자인', 59),\n",
       " ('핸들', 56),\n",
       " ('정보', 47),\n",
       " ('필요', 46),\n",
       " ('소개', 45)]"
      ]
     },
     "execution_count": 42,
     "metadata": {},
     "output_type": "execute_result"
    }
   ],
   "source": [
    "from collections import Counter  # 상위 30개 명사 추출\n",
    "num_top_nouns = 30\n",
    "tm_nouns_counter = Counter(tm_nouns)\n",
    "tm_top_nouns = tm_nouns_counter.most_common(num_top_nouns)\n",
    "\n",
    "tm_top_nouns"
   ]
  },
  {
   "cell_type": "code",
   "execution_count": 44,
   "metadata": {
    "scrolled": false
   },
   "outputs": [
    {
     "name": "stdout",
     "output_type": "stream",
     "text": [
      "[('전자레인지', 1735), ('제품', 219), ('오븐', 201), ('구매', 165), ('추천', 164), ('다이얼', 145), ('SK매직', 143), ('사용', 141), ('고급', 134), ('요리', 128), ('후기', 127), ('기능', 107), ('가성비', 99), ('광파오븐', 89), ('버튼', 88), ('에어프라이기', 76), ('분', 74), ('자동', 73), ('가격', 71), ('구입', 69), ('집', 68), ('상품', 66), ('초', 62), ('자취', 61), ('전자식', 61), ('디자인', 59), ('핸들', 56), ('정보', 47), ('필요', 46), ('소개', 45), ('멀티오븐', 42), ('가능', 39), ('글래스', 38), ('올인원', 38), ('시간', 34), ('삼성전자', 34), ('쿠팡', 34), ('선물', 33), ('동양매직', 32), ('식기세척기', 32), ('복합오븐', 30), ('멀티', 30), ('해동', 29), ('생각', 28), ('출력', 28), ('전기오븐', 28), ('리뷰', 27), ('주방', 27), ('오늘', 26), ('조리', 26), ('미니', 26), ('이마트', 26), ('소형', 26), ('스팀', 25), ('화이트', 24), ('브랜드', 24), ('빌트인', 24), ('설치', 24), ('포스팅', 24), ('복합', 23), ('이사', 22), ('리터', 22), ('전기', 22), ('내부', 21), ('심플', 20), ('정수기', 20), ('건조', 20), ('가스레인지', 20), ('상세', 20), ('인기', 20), ('선택', 19), ('그릴', 19), ('할인', 19), ('비교', 19), ('터치', 19), ('물품', 19), ('작동', 18), ('고민', 18), ('사이즈', 18), ('판매', 18), ('lg', 18), ('기본', 17), ('저희', 17), ('색상', 17), ('시작', 17), ('이유', 17), ('가전제품', 17), ('순위', 17), ('가정', 16), ('발효', 16), ('배송', 16), ('포장', 16), ('메탈', 16), ('성능', 15), ('마음', 15), ('용량', 15), ('신혼', 15), ('실버', 15), ('설정', 14), ('우리', 14), ('만족', 14), ('검색', 14), ('고장', 14), ('디지털', 14), ('핫템', 14), ('설명서', 13), ('음식', 13), ('실속', 13), ('생활', 13), ('링크', 13), ('마케팅', 13), ('핫', 13), ('쇼핑', 13), ('안녕', 13), ('인덕션', 13), ('품명', 12), ('냉장고', 12), ('기존', 12), ('사무실', 12), ('특가', 12), ('블랙', 12), ('광파', 12), ('원룸', 12), ('도착', 12), ('사진', 12), ('템', 12), ('무게', 11), ('다양', 11), ('외관', 11), ('주문', 11), ('편리', 11), ('조절', 11), ('공간', 11), ('최고', 11), ('인용', 11), ('멀티플렉스', 11), ('제휴', 11), ('유리', 10), ('밥', 10), ('인터넷', 10), ('조화', 10), ('미러', 10), ('접시', 10), ('방식', 10), ('대우', 10), ('사람', 10), ('활용', 10), ('필수품', 10), ('필수', 10), ('클릭', 10), ('방법', 10), ('회전', 10), ('컬러', 10), ('파트너스', 10), ('활동', 10), ('일환', 10), ('용기', 9), ('스마트', 9), ('대표', 9), ('예전', 9), ('참고', 9), ('박스', 9), ('장점', 9), ('청소', 9), ('대용량', 9), ('크기', 9), ('처음', 9), ('밥솥', 9), ('단계', 9), ('굿', 9), ('아래', 9), ('최애템', 9), ('느낌', 8), ('교체', 8), ('거울', 8), ('최대', 8), ('누구', 8), ('행사', 8), ('가격대', 8), ('일반', 8), ('최저', 8), ('피자', 8), ('편지', 8), ('연락', 8), ('용도', 8), ('냉동', 8), ('아이', 8), ('서비스', 8), ('아이템', 8), ('변동', 8), ('이용', 7), ('겸용', 7), ('자리', 7), ('로스팅', 7), ('홈', 7), ('맛', 7), ('세탁기', 7), ('무상', 7), ('최저가', 7), ('추가', 7), ('전기레인지', 7), ('결정', 7), ('여기', 7), ('어', 7), ('부분', 7), ('듀얼', 7), ('끝', 7), ('번개', 7), ('장터', 7), ('출시', 7), ('로켓배송', 7), ('모두', 7), ('감사', 7), ('소비', 7), ('렌탈', 7), ('베이', 7), ('킹', 7), ('사랑', 7), ('인테리어', 7), ('판매자', 7), ('뒤', 6), ('기념', 6), ('마련', 6), ('택배', 6), ('유용', 6), ('구경', 6), ('결혼', 6), ('청정기', 6), ('블로그', 6), ('단점', 6), ('스피드', 6), ('대비', 6), ('세일', 6), ('조작', 6), ('집들이', 6), ('식품', 6), ('품평', 6), ('단순', 6), ('공식', 6), ('설명', 6), ('프리미엄', 6), ('완벽', 6), ('경우', 6), ('케어', 6), ('플렉스', 6), ('쉐프', 6), ('트리플', 6), ('이후', 6), ('기인', 6), ('금전', 6), ('봉기', 5), ('얼마', 5), ('녀석', 5), ('전체', 5), ('카페', 5), ('이상', 5), ('풀', 5), ('선반', 5), ('가구', 5), ('적립', 5), ('동안', 5), ('엄마', 5), ('개봉', 5), ('이하', 5), ('기간', 5), ('홈페이지', 5), ('뭔가', 5), ('명은', 5), ('토스트', 5), ('시공', 5), ('산', 5), ('세트', 5), ('특장', 5), ('고주파', 5), ('전력', 5), ('편의점', 5), ('공기', 5), ('비데', 5), ('센터', 5), ('사용법', 5), ('불', 5), ('윈도우', 5), ('as', 5), ('센스', 5), ('물건', 5), ('수수료', 5), ('건조대', 5), ('전화', 5), ('당일', 5), ('동시', 5), ('야식', 5), ('출처', 5), ('청소기', 5), ('꿀템', 5), ('매립', 5), ('전문점', 5), ('마무리', 4), ('라이프', 4), ('충실', 4), ('마트', 4), ('진행', 4), ('오픈', 4), ('용품', 4), ('전면', 4), ('밖', 4), ('그릇', 4), ('불편', 4), ('쿠폰', 4), ('한정', 4), ('동생', 4), ('일상', 4), ('짝', 4), ('스티로폼', 4), ('앞', 4), ('레인', 4), ('매장', 4), ('중고', 4), ('삼겹살', 4), ('구이', 4), ('우유', 4), ('만큼', 4), ('온라인', 4), ('개인', 4), ('완료', 4), ('스팀오븐', 4), ('도시락', 4), ('품절', 4), ('흰색', 4), ('사이트', 4), ('메뉴', 4), ('품질', 4), ('이것저것', 4), ('차지', 4), ('푸드', 4), ('이거', 4), ('집중', 4), ('대박', 4), ('빵', 4), ('금액', 4), ('계란찜', 4), ('중량', 4), ('완성', 4), ('최근', 4), ('세련', 4), ('헬', 4), ('로마켓', 4), ('중요', 4), ('오랫동안', 4), ('종이', 4), ('제공', 4), ('방', 4), ('하이라이트', 4), ('전동', 4), ('빨래', 4), ('예약', 4), ('이전', 4), ('파손', 4), ('오', 4), ('발송', 4), ('자', 4), ('특별', 4), ('편식', 4), ('스테인리스', 4), ('프라이', 4), ('모습', 4), ('안마', 4), ('스파크', 4), ('강추', 4), ('비스', 4), ('포크', 4), ('고려', 4), ('추', 4), ('해당', 4), ('런', 3), ('칭', 3), ('이벤트', 3), ('그동안', 3), ('보관', 3), ('유행', 3), ('홈플러스', 3), ('슈퍼', 3), ('증정', 3), ('토요일', 3), ('사은품', 3), ('토스트기', 3), ('손', 3), ('기대', 3), ('기기', 3), ('이건', 3), ('오전', 3), ('소리', 3), ('캐시', 3), ('이게', 3), ('차이', 3), ('스마일데이', 3), ('마켓', 3), ('수량', 3), ('핏', 3), ('실용', 3), ('이걸로', 3), ('고구마', 3), ('외형', 3), ('상태', 3), ('소정', 3), ('발견', 3), ('일산', 3), ('뚜껑', 3), ('평점', 3), ('레트', 3), ('옵션', 3), ('이름', 3), ('동부', 3), ('박싱', 3), ('매력', 3), ('회사', 3), ('열', 3), ('팝', 3), ('열일', 3), ('사', 3), ('수명', 3), ('해', 3), ('며칠', 3), ('마지막', 3), ('원형', 3), ('스타일', 3), ('특징', 3), ('세상', 3), ('사항', 3), ('한국', 3), ('환영', 3), ('기업', 3), ('네이버', 3), ('실물', 3), ('혼자', 3), ('보증', 3), ('엘지', 3), ('후회', 3), ('불가', 3), ('전제', 3), ('가입', 3), ('스콘', 3), ('레시피', 3), ('직관', 3), ('종류', 3), ('소음', 3), ('쪽', 3), ('준비', 3), ('고객', 3), ('판매량', 3), ('체크', 3), ('재료', 3), ('혼', 3), ('장만', 3), ('신상품', 3), ('안심', 3), ('선', 3), ('하우스', 3), ('안쪽', 3), ('면', 3), ('일정액', 3), ('류', 3), ('권주', 3), ('유리판', 3), ('필름', 3), ('신청', 3), ('베스트', 3), ('하얀색', 3), ('전자파', 3), ('은색', 3), ('저녁', 3), ('냉동식품', 3), ('참조', 3), ('물', 3), ('에너지', 3), ('소독', 3), ('모음', 3), ('실제', 3), ('떡볶이', 3), ('도움', 3), ('타임', 3), ('목록', 3), ('부엌', 3), ('보통', 3), ('생선', 3), ('이틀', 3), ('옆', 3), ('기사', 3), ('최종', 3), ('나중', 3), ('의자', 3), ('식당', 3), ('분식', 3), ('컵라면', 3), ('덕분', 3), ('물걸레', 3), ('인생', 3), ('신혼집', 3), ('눈', 3), ('탈취', 3), ('사양', 3), ('필터', 3), ('안전', 3), ('소액', 3), ('주부', 3), ('전국', 3), ('으', 3), ('시물', 3), ('시점', 3), ('마크', 2), ('조립', 2), ('믹', 2), ('서기', 2), ('총평', 2), ('식구', 2), ('문구', 2), ('메이커', 2), ('아빠', 2), ('퇴근', 2), ('사고', 2), ('평소', 2), ('주말', 2), ('차인데', 2), ('빈도', 2), ('아이스', 2), ('반사', 2), ('커피', 2), ('가정용', 2), ('운명', 2), ('선착순', 2), ('빅', 2), ('쇼핑몰', 2), ('살림', 2), ('제일', 2), ('상자', 2), ('대부분', 2), ('거치', 2), ('작업실', 2), ('식사', 2), ('조건', 2), ('롯데닷컴', 2), ('당시', 2), ('지대', 2), ('퍼브', 2), ('인수', 2), ('할인율', 2), ('미정', 2), ('공유', 2), ('요소', 2), ('구독', 2), ('표시', 2), ('칭찬', 2), ('레이더스', 2), ('위험', 2), ('실패', 2), ('여름', 2), ('에어컨', 2), ('레드', 2), ('위치', 2), ('첫째', 2), ('둥이', 2), ('감동', 2), ('배치', 2), ('생필품', 2), ('다이어트', 2), ('여유', 2), ('코드', 2), ('주세요', 2), ('신상', 2), ('일요일', 2), ('연결', 2), ('기억', 2), ('티몬', 2), ('콤비', 2), ('능력', 2), ('뭔지', 2), ('폭풍', 2), ('조합', 2), ('스타일링', 2), ('스타일리스트', 2), ('문선영', 2), ('어따', 2), ('얘기', 2), ('그게', 2), ('후라이팬', 2), ('염창동', 2), ('아기', 2), ('이유식', 2), ('초반', 2), ('마일리지', 2), ('모양', 2), ('파워', 2), ('가스', 2), ('직거래', 2), ('동봉', 2), ('동일', 2), ('이미지', 2), ('수록', 2), ('카톡', 2), ('편안', 2), ('반찬', 2), ('스펙', 2), ('전용', 2), ('야채', 2), ('구성', 2), ('품', 2), ('검사', 2), ('수리', 2), ('지금', 2), ('오빠', 2), ('포인트', 2), ('회전판', 2), ('하이브리드', 2), ('정상', 2), ('만점', 2), ('중간', 2), ('취향', 2), ('상담', 2), ('월계', 2), ('어텀', 2), ('크리스피', 2), ('짱', 2), ('롯데', 2), ('백화점', 2), ('찜', 2), ('개월', 2), ('처분', 2), ('군만두', 2), ('폐업', 2), ('거래', 2), ('하단', 2), ('포함', 2), ('배달', 2), ('합리', 2), ('무료', 2), ('초콜릿', 2), ('아트', 2), ('가로', 2), ('친구', 2), ('외장', 2), ('슬림형', 2), ('슬림', 2), ('오른쪽', 2), ('오피스텔', 2), ('랜지', 2), ('바닥', 2), ('형', 2), ('차일드락', 2), ('절전', 2), ('에코', 2), ('그림자', 2), ('중앙', 2), ('무언가', 2), ('도파관', 2), ('덮개', 2), ('계란빵', 2), ('손색', 2), ('단일', 2), ('이동', 2), ('시대', 2), ('전자동', 2), ('열탕', 2), ('차트', 2), ('이모님', 2), ('설거지', 2), ('정리', 2), ('비닐', 2), ('군더더기', 2), ('솔로', 2), ('주일', 2), ('건조기', 2), ('온도', 2), ('남편', 2), ('병', 2), ('해결', 2), ('냄새', 2), ('혜택', 2), ('만능', 2), ('간식', 2), ('기어', 2), ('아파트', 2), ('역할', 2), ('신경', 2), ('처리', 2), ('껍질', 2), ('삼', 2), ('특판', 2), ('대형', 2), ('효율', 2), ('시나몬', 2), ('제거', 2), ('소품', 2), ('냉장', 2), ('현실', 2), ('인버터', 2), ('장리', 2), ('정확', 2), ('네임', 2), ('장바구니', 2), ('욕심', 2), ('자체', 2), ('새', 2), ('당근', 2), ('팔', 2), ('수세미', 2), ('지문', 2), ('페이지', 2), ('베스트셀러', 2), ('여수', 2), ('밑부분', 2), ('분석', 2), ('리스트', 2), ('스페셜', 2), ('초대', 2), ('보더', 2), ('스팸', 2), ('일체', 2), ('공동', 2), ('공구', 2), ('여종', 2), ('각종', 2), ('체험', 2), ('베', 2), ('리퍼블릭', 2), ('물맛', 2), ('신선', 2), ('생수', 2), ('훈제', 2), ('이킹', 2), ('여러분', 2), ('퀄리티', 2), ('탈시', 2), ('찬스', 2), ('현재', 2), ('이슈', 2), ('수익', 2), ('이득', 2), ('오예', 2), ('개성', 2), ('인쇄', 1), ('돌림판', 1), ('밴', 1), ('포토', 1), ('추첨', 1), ('자유', 1), ('조그', 1), ('카레', 1), ('낯', 1), ('지정', 1), ('미안', 1), ('머리', 1), ('시절', 1), ('격동', 1), ('세월', 1), ('동탄', 1), ('메타폴리스', 1), ('참석', 1), ('쇼', 1), ('에디션', 1), ('콜라보레이션', 1), ('브로스', 1), ('키', 1), ('목걸이', 1), ('합정', 1), ('메세', 1), ('폴리스', 1), ('인데', 1), ('나머지', 1), ('갈망', 1), ('타사', 1), ('분위기', 1), ('조기', 1), ('실천', 1), ('내심', 1), ('편견', 1), ('초코', 1), ('칩', 1), ('쿠키', 1), ('초보', 1), ('저번', 1), ('구현', 1), ('기술력', 1), ('놀라움', 1), ('건가', 1), ('코스', 1), ('가동', 1), ('추전', 1), ('김생민', 1), ('영수증', 1), ('케스', 1), ('항목', 1), ('토', 1), ('욜', 1), ('미디어', 1), ('하이얼', 1), ('그레이', 1), ('스마일', 1), ('제한', 1), ('파파', 1), ('지마켓', 1), ('파격', 1), ('릴레이', 1), ('총알', 1), ('쓰레기', 1), ('걱정', 1), ('스튜', 1), ('적극', 1), ('경제', 1), ('완전', 1), ('사자', 1), ('인식', 1), ('멋', 1), ('마다', 1), ('군고구마', 1), ('옥션', 1), ('좌표', 1), ('만족도', 1), ('대중', 1), ('노망', 1), ('특화', 1), ('자칭', 1), ('오토', 1), ('초단위', 1), ('분단위', 1), ('직후', 1), ('통합', 1), ('원고료', 1), ('주관', 1), ('영상리', 1), ('뷰어', 1), ('프로젝트', 1), ('화이트로', 1), ('압구정', 1), ('해동기', 1), ('기름', 1), ('즉석밥', 1), ('상품권', 1), ('고고씽', 1), ('청첩장', 1), ('사연', 1), ('스톱', 1), ('득템', 1), ('치명', 1), ('부지런', 1), ('손자국', 1), ('식탁', 1), ('다이소', 1), ('마약', 1), ('골드', 1), ('스타', 1), ('미광', 1), ('방문', 1), ('입금', 1), ('주저', 1), ('독립', 1), ('강남구', 1), ('세곡동', 1), ('신축', 1), ('정식', 1), ('명칭', 1), ('콤비네이션', 1), ('엊그제', 1), ('사온', 1), ('성화', 1), ('천안', 1), ('시티', 1), ('자이', 1), ('명가', 1), ('시그', 1), ('위주', 1), ('겁니다', 1), ('단가', 1), ('작년', 1), ('귀', 1), ('구비', 1), ('평생', 1), ('쳐', 1), ('양', 1), ('비밀', 1), ('화질', 1), ('채팅', 1), ('임시', 1), ('핫바', 1), ('텐데', 1), ('사실', 1), ('검은색', 1), ('요거', 1), ('금요일', 1), ('결재', 1), ('강도', 1), ('파트너', 1), ('신랑', 1), ('매니아', 1), ('번창', 1), ('장단점', 1), ('무배', 1), ('실화', 1), ('끝판', 1), ('심사숙고', 1), ('판단', 1), ('데이', 1), ('조리용', 1), ('철망', 1), ('책', 1), ('부담', 1), ('계획', 1), ('핸드폰', 1), ('거대', 1), ('통신사', 1), ('손잡이', 1), ('구매처', 1), ('선정', 1), ('제안', 1), ('표기', 1), ('와트', 1), ('걸요', 1), ('기분', 1), ('푸쉬', 1), ('그것', 1), ('과자', 1), ('결국', 1), ('냄비', 1), ('사례', 1), ('단시간', 1), ('소모', 1), ('감수', 1), ('친정', 1), ('지원', 1), ('한마디', 1), ('풀무원', 1), ('요게', 1), ('패스', 1), ('산업', 1), ('사업', 1), ('사절', 1), ('묵동', 1), ('즉시', 1), ('실내', 1), ('확률', 1), ('적당', 1), ('지출', 1), ('치즈', 1), ('닭발', 1), ('전부', 1), ('딸', 1), ('봉투', 1), ('듀어', 1), ('뜬금', 1), ('삶', 1), ('에누리', 1), ('앱', 1), ('첨부', 1), ('롱', 1), ('블리', 1), ('스트로', 1), ('본품', 1), ('개발', 1), ('전자제품', 1), ('코너', 1), ('고고', 1), ('본격', 1), ('나라', 1), ('초당', 1), ('예측', 1), ('뉴', 1), ('얘', 1), ('액티브', 1), ('워시', 1), ('일기', 1), ('어머니', 1), ('통밀', 1), ('목차', 1), ('태그', 1), ('육아', 1), ('공감', 1), ('공부', 1), ('캡처', 1), ('고심', 1), ('바람', 1), ('승부', 1), ('드립', 1), ('대면', 1), ('죽', 1), ('마이크로웨이브', 1), ('말썽', 1), ('기회', 1), ('가운데', 1), ('브리드', 1), ('누적', 1), ('착불', 1), ('혼수품', 1), ('유튜브', 1), ('검색어', 1), ('제목', 1), ('테스트', 1), ('주파수', 1), ('전역', 1), ('수험', 1), ('영양', 1), ('수능', 1), ('기종', 1)]\n"
     ]
    }
   ],
   "source": [
    "# # 유사어를 통페합한 후 명사 빈도수를 다시 계산한다. 통폐합할 유사어가 없는 경우 주석처리하고 이 과정 생략.\n",
    "# # 이미 단어 전처리 과정에서 '렌지'를 '레인지'로 치환하였기 때문에 이 과정 생략 가능\n",
    "\n",
    "# tm_nouns_counter = Counter(tm_nouns)\n",
    "\n",
    "# tm_nouns_counter['렌지'] +=tm_nouns_counter['레인지'] # '렌지'를 '레인지'로 간주하여 빈도수를 더해주고 \n",
    "# tm_nouns_counter.pop('렌지') # '렌지'는 단어 리스트에 제외함.\n",
    "\n",
    "# tm_nouns_counter['매직'] +=tm_nouns_counter['SK매직'] # '매직'을 'SK매직'으로 간주하여 빈도수를 더해주고 \n",
    "# tm_nouns_counter.pop('매직') # '매직'은 단어 리스트에 제외함.\n",
    "                               # 작년의 구시대적 코드 \n",
    "\n",
    "num_top_nouns = 1000\n",
    "tm_top_nouns = tm_nouns_counter.most_common(num_top_nouns)\n",
    "\n",
    "print(tm_top_nouns) \n",
    "# 오븐을 지워야 하나? "
   ]
  },
  {
   "cell_type": "code",
   "execution_count": 122,
   "metadata": {
    "scrolled": false
   },
   "outputs": [
    {
     "data": {
      "text/plain": [
       "['전자레인지',\n",
       " '제품',\n",
       " '오븐',\n",
       " '구매',\n",
       " '추천',\n",
       " '다이얼',\n",
       " 'SK매직',\n",
       " '사용',\n",
       " '고급',\n",
       " '요리',\n",
       " '후기',\n",
       " '기능',\n",
       " '가성비',\n",
       " '광파오븐',\n",
       " '버튼',\n",
       " '에어프라이기',\n",
       " '분',\n",
       " '자동',\n",
       " '가격',\n",
       " '구입',\n",
       " '집',\n",
       " '상품',\n",
       " '초',\n",
       " '자취',\n",
       " '전자식',\n",
       " '디자인',\n",
       " '핸들',\n",
       " '정보',\n",
       " '필요',\n",
       " '소개']"
      ]
     },
     "execution_count": 122,
     "metadata": {},
     "output_type": "execute_result"
    }
   ],
   "source": [
    "tm_top_nouns = dict(tm_top_nouns) # 사전(dictionary) 형태로 변환\n",
    "\n",
    "list(dict.keys(tm_top_nouns))"
   ]
  },
  {
   "cell_type": "code",
   "execution_count": 123,
   "metadata": {
    "scrolled": false
   },
   "outputs": [
    {
     "name": "stdout",
     "output_type": "stream",
     "text": [
      "{'전자레인지': 1735, '제품': 219, '오븐': 201, '구매': 165, '추천': 164, '다이얼': 145, 'SK매직': 143, '사용': 141, '고급': 134, '요리': 128, '후기': 127, '기능': 107, '가성비': 99, '광파오븐': 89, '버튼': 88, '에어프라이기': 76, '분': 74, '자동': 73, '가격': 71, '구입': 69, '집': 68, '상품': 66, '초': 62, '자취': 61, '전자식': 61, '디자인': 59, '핸들': 56, '정보': 47, '필요': 46, '소개': 45}\n"
     ]
    }
   ],
   "source": [
    "tm_top_nouns = dict(tm_top_nouns) # 사전(dictionary) 형태로 변환\n",
    "\n",
    "print(tm_top_nouns)"
   ]
  },
  {
   "cell_type": "markdown",
   "metadata": {},
   "source": [
    "### 2) 동사 및 형용사의 단순빈도 분석"
   ]
  },
  {
   "cell_type": "markdown",
   "metadata": {},
   "source": [
    "#### 형태소 분석을 한 결과에서 동사(VV)에 해당하는 형태에 '다'를 추가하여 출력한다."
   ]
  },
  {
   "cell_type": "code",
   "execution_count": 37,
   "metadata": {},
   "outputs": [
    {
     "name": "stdout",
     "output_type": "stream",
     "text": [
      "['되다', '있다', '남기다', '데우다', '믿다', '하다', '있다', '쓰다', '바꾸다', '쓰다', '쓰다', '어울리다', '받다', '담다', '익다', '아다', '드다', '있다', '기다리다', '하다', '찍다', '되다', '있다', '가다', '먹다', '둘러보다', '보이다', '빌다', '받다', '알다']\n"
     ]
    }
   ],
   "source": [
    "verbs=[]\n",
    "for word in words:\n",
    "    if word[1]=='VV':\n",
    "        verbs.append(word[0]+'다')\n",
    "        \n",
    "print(verbs[0:30])"
   ]
  },
  {
   "cell_type": "markdown",
   "metadata": {},
   "source": [
    "형태소 분석을 한 결과에서 형용사(VA)에 해당하는 형태에 '다'를 추가하여 출력한 결과이다."
   ]
  },
  {
   "cell_type": "code",
   "execution_count": 51,
   "metadata": {},
   "outputs": [
    {
     "name": "stdout",
     "output_type": "stream",
     "text": [
      "['없다', '있다', '뛰어나다', '있다', '좋다', '다르다', '약하다', '좋다', '급하다', '없다', '좁다', '많다', '같다', '있다', '많다', '맛있다', '넓다', '많다', '없다', '없다', '갑작스럽다', '급하다', '좋다', '없다', '좋다', '같다', '좋다', '좋다', '같다', '같다']\n"
     ]
    }
   ],
   "source": [
    "adjective=[]\n",
    "for word in words:\n",
    "    if word[1]=='VA':\n",
    "        adjective.append(word[0]+'다')\n",
    "        \n",
    "print(adjective[0:30])"
   ]
  },
  {
   "cell_type": "code",
   "execution_count": 52,
   "metadata": {
    "scrolled": false
   },
   "outputs": [
    {
     "data": {
      "text/plain": [
       "[('좋다', 107),\n",
       " ('없다', 61),\n",
       " ('같다', 54),\n",
       " ('있다', 53),\n",
       " ('많다', 30),\n",
       " ('괜찮다', 17),\n",
       " ('작다', 14),\n",
       " ('빠르다', 11),\n",
       " ('예쁘다', 9),\n",
       " ('높다', 8),\n",
       " ('싸다', 8),\n",
       " ('크다', 7),\n",
       " ('편하다', 7),\n",
       " ('귀찮다', 5),\n",
       " ('손쉽다', 5),\n",
       " ('급하다', 4),\n",
       " ('좁다', 4),\n",
       " ('넓다', 3),\n",
       " ('어렵다', 3),\n",
       " ('쉽다', 3),\n",
       " ('비싸다', 3),\n",
       " ('다르다', 2),\n",
       " ('맛있다', 2),\n",
       " ('착하다', 2),\n",
       " ('적다', 2),\n",
       " ('수많다', 2),\n",
       " ('늦다', 2),\n",
       " ('고르다', 2),\n",
       " ('이쁘다', 2),\n",
       " ('낮다', 2)]"
      ]
     },
     "execution_count": 52,
     "metadata": {},
     "output_type": "execute_result"
    }
   ],
   "source": [
    " # 상위 30개 형용사 추출\n",
    "num_top_adj = 30\n",
    "tm_adj_counter = Counter(adjective)\n",
    "tm_top_adj = tm_adj_counter.most_common(num_top_adj)\n",
    "tm_top_adj"
   ]
  },
  {
   "cell_type": "code",
   "execution_count": 53,
   "metadata": {},
   "outputs": [
    {
     "data": {
      "text/plain": [
       "['좋다',\n",
       " '없다',\n",
       " '같다',\n",
       " '있다',\n",
       " '많다',\n",
       " '괜찮다',\n",
       " '작다',\n",
       " '빠르다',\n",
       " '예쁘다',\n",
       " '높다',\n",
       " '싸다',\n",
       " '크다',\n",
       " '편하다',\n",
       " '귀찮다',\n",
       " '손쉽다',\n",
       " '급하다',\n",
       " '좁다',\n",
       " '넓다',\n",
       " '어렵다',\n",
       " '쉽다',\n",
       " '비싸다',\n",
       " '다르다',\n",
       " '맛있다',\n",
       " '착하다',\n",
       " '적다',\n",
       " '수많다',\n",
       " '늦다',\n",
       " '고르다',\n",
       " '이쁘다',\n",
       " '낮다']"
      ]
     },
     "execution_count": 53,
     "metadata": {},
     "output_type": "execute_result"
    }
   ],
   "source": [
    "tm_top_adj = dict(tm_top_adj)\n",
    "list(dict.keys(tm_top_adj))"
   ]
  },
  {
   "cell_type": "markdown",
   "metadata": {},
   "source": [
    "## 2.2. 단어 구름(Word Cloud)으로 표시하기\n",
    "\n",
    "단어구름으로 표시하기 위해서 matplotlib 라이브러리와 WordCloud 라이브러리를 import 한다. WordCloud 라이브러리는 pip install wordcloud 명령어를 통해서 설치해야 한다."
   ]
  },
  {
   "cell_type": "code",
   "execution_count": 54,
   "metadata": {},
   "outputs": [],
   "source": [
    "\n",
    "# !pip install wordcloud   "
   ]
  },
  {
   "cell_type": "markdown",
   "metadata": {},
   "source": [
    "### 1) 명사 핵심어를 단어구름으로 표시하기"
   ]
  },
  {
   "cell_type": "code",
   "execution_count": 55,
   "metadata": {},
   "outputs": [
    {
     "data": {
      "text/plain": [
       "<wordcloud.wordcloud.WordCloud at 0x1ab6129f148>"
      ]
     },
     "execution_count": 55,
     "metadata": {},
     "output_type": "execute_result"
    }
   ],
   "source": [
    "# 나눔바른고딕 서체 파일(NanumBarunGothic.ttf) 같은 폴더에 미리 다운 받아 놓을 것\n",
    "\n",
    "from wordcloud import WordCloud\n",
    "tm_wc = WordCloud(background_color=\"white\", font_path='NanumBarunGothic.ttf')  \n",
    "tm_wc.generate_from_frequencies(tm_top_nouns)"
   ]
  },
  {
   "cell_type": "markdown",
   "metadata": {},
   "source": [
    "워드 클라우드를 생성하였으면 화면에 워드클라우드를 시각화하기 위해서 matplotlib를 이용한다."
   ]
  },
  {
   "cell_type": "code",
   "execution_count": 48,
   "metadata": {},
   "outputs": [
    {
     "data": {
      "text/plain": [
       "<matplotlib.image.AxesImage at 0x1ab61218f48>"
      ]
     },
     "execution_count": 48,
     "metadata": {},
     "output_type": "execute_result"
    },
    {
     "data": {
      "image/png": "[encoded data removed]",
      "text/plain": [
       "<Figure size 720x720 with 1 Axes>"
      ]
     },
     "metadata": {
      "needs_background": "light"
     },
     "output_type": "display_data"
    }
   ],
   "source": [
    "import matplotlib.pyplot as plt\n",
    "figure = plt.figure()\n",
    "figure.set_size_inches(10, 10)\n",
    "ax = figure.add_subplot(1, 1, 1)\n",
    "ax.axis(\"off\")\n",
    "ax.imshow(tm_wc)"
   ]
  },
  {
   "cell_type": "markdown",
   "metadata": {},
   "source": [
    "### 2) 형용사 핵심어를 단어 구름으로 표시하기"
   ]
  },
  {
   "cell_type": "code",
   "execution_count": 57,
   "metadata": {},
   "outputs": [
    {
     "data": {
      "text/plain": [
       "<wordcloud.wordcloud.WordCloud at 0x1ab612fec48>"
      ]
     },
     "execution_count": 57,
     "metadata": {},
     "output_type": "execute_result"
    }
   ],
   "source": [
    "from wordcloud import WordCloud\n",
    "tm_wc = WordCloud(background_color=\"white\", font_path='NanumBarunGothic.ttf')\n",
    "tm_wc.generate_from_frequencies(tm_top_adj)"
   ]
  },
  {
   "cell_type": "code",
   "execution_count": 58,
   "metadata": {},
   "outputs": [
    {
     "data": {
      "text/plain": [
       "<matplotlib.image.AxesImage at 0x1ab61302488>"
      ]
     },
     "execution_count": 58,
     "metadata": {},
     "output_type": "execute_result"
    },
    {
     "data": {
      "image/png": "[encoded data removed]",
      "text/plain": [
       "<Figure size 720x720 with 1 Axes>"
      ]
     },
     "metadata": {
      "needs_background": "light"
     },
     "output_type": "display_data"
    }
   ],
   "source": [
    "import matplotlib.pyplot as plt\n",
    "figure = plt.figure()\n",
    "figure.set_size_inches(10, 10)\n",
    "ax = figure.add_subplot(1, 1, 1)\n",
    "ax.axis(\"off\")\n",
    "ax.imshow(tm_wc)"
   ]
  },
  {
   "cell_type": "markdown",
   "metadata": {},
   "source": [
    "### 3) 단어 구름 바탕 그림 변경하기"
   ]
  },
  {
   "cell_type": "code",
   "execution_count": 69,
   "metadata": {},
   "outputs": [
    {
     "data": {
      "image/png": "[encoded data removed]",
      "text/plain": [
       "<Figure size 576x576 with 1 Axes>"
      ]
     },
     "metadata": {
      "needs_background": "light"
     },
     "output_type": "display_data"
    }
   ],
   "source": [
    "# 하트 그림파일 (heart.png) 같은 폴더에 미리 다운받아 놓을 것. \n",
    "\n",
    "from PIL import Image\n",
    "import numpy as np\n",
    "cloud_mask=np.array(Image.open('heart.png')) \n",
    "plt.figure(figsize=(8,8))\n",
    "plt.imshow(cloud_mask,interpolation=\"bilinear\")\n",
    "plt.show()"
   ]
  },
  {
   "cell_type": "code",
   "execution_count": 126,
   "metadata": {},
   "outputs": [
    {
     "data": {
      "image/png": "[encoded data removed]",
      "text/plain": [
       "<Figure size 576x576 with 1 Axes>"
      ]
     },
     "metadata": {
      "needs_background": "light"
     },
     "output_type": "display_data"
    }
   ],
   "source": [
    "# 하트 그림파일 (heart.png) 같은 폴더에 미리 다운받아 놓을 것. \n",
    "\n",
    "from PIL import Image\n",
    "import numpy as np\n",
    "cloud_mask=np.array(Image.open('microwave-g313937a19_1920.png')) \n",
    "plt.figure(figsize=(8,8))\n",
    "plt.imshow(cloud_mask,interpolation=\"bilinear\")\n",
    "plt.show()"
   ]
  },
  {
   "cell_type": "code",
   "execution_count": 70,
   "metadata": {},
   "outputs": [
    {
     "data": {
      "image/png": "[encoded data removed]",
      "text/plain": [
       "<Figure size 720x720 with 1 Axes>"
      ]
     },
     "metadata": {
      "needs_background": "light"
     },
     "output_type": "display_data"
    }
   ],
   "source": [
    "tm_wc = WordCloud(background_color=\"white\", mask=cloud_mask, font_path='NanumBarunGothic.ttf')\n",
    "tm_wc.generate_from_frequencies(tm_top_nouns)\n",
    "plt.figure(figsize=(10,10))\n",
    "plt.imshow(tm_wc,interpolation=\"bilinear\")\n",
    "plt.axis(\"on\")\n",
    "plt.show()"
   ]
  },
  {
   "cell_type": "markdown",
   "metadata": {},
   "source": [
    "## 2.3. 단어빈도-역문서빈도(TF-IDF) 분석\n"
   ]
  },
  {
   "cell_type": "markdown",
   "metadata": {},
   "source": [
    "블로그 내용에서 빈도가 높은 단어에 대해서 TF-IDF 값을 구하기 위해서 TfidfVectorizer 라이브러리를 import 한다. 그리고 추출한 50개의 명사가 블로그 내용에서 어떤 TF-IDF 값을 가지는지 배열 형태로 출력한다."
   ]
  },
  {
   "cell_type": "code",
   "execution_count": 125,
   "metadata": {},
   "outputs": [
    {
     "name": "stdout",
     "output_type": "stream",
     "text": [
      "30\n"
     ]
    }
   ],
   "source": [
    "tm_top_nouns = list(tm_top_nouns.keys())\n",
    "print(len(tm_top_nouns))"
   ]
  },
  {
   "cell_type": "code",
   "execution_count": 60,
   "metadata": {},
   "outputs": [
    {
     "name": "stdout",
     "output_type": "stream",
     "text": [
      "Requirement already satisfied: sklearn in c:\\users\\smell\\anaconda3\\envs\\py37\\lib\\site-packages (0.0)\n",
      "Requirement already satisfied: scikit-learn in c:\\users\\smell\\anaconda3\\envs\\py37\\lib\\site-packages (from sklearn) (1.0.1)\n",
      "Requirement already satisfied: joblib>=0.11 in c:\\users\\smell\\anaconda3\\envs\\py37\\lib\\site-packages (from scikit-learn->sklearn) (1.1.0)\n",
      "Requirement already satisfied: scipy>=1.1.0 in c:\\users\\smell\\anaconda3\\envs\\py37\\lib\\site-packages (from scikit-learn->sklearn) (1.7.1)\n",
      "Requirement already satisfied: threadpoolctl>=2.0.0 in c:\\users\\smell\\anaconda3\\envs\\py37\\lib\\site-packages (from scikit-learn->sklearn) (3.0.0)\n",
      "Requirement already satisfied: numpy>=1.14.6 in c:\\users\\smell\\anaconda3\\envs\\py37\\lib\\site-packages (from scikit-learn->sklearn) (1.21.2)\n"
     ]
    }
   ],
   "source": [
    "!pip install sklearn\n",
    "import sklearn"
   ]
  },
  {
   "cell_type": "markdown",
   "metadata": {},
   "source": [
    "### 1) 상위 핵심어에 대한 TF-IDF 분석"
   ]
  },
  {
   "cell_type": "markdown",
   "metadata": {},
   "source": [
    "TF-IDF 값에 대해서 테이블 형태로 살펴보기위해 DataFrame을 이용하여 출력한다."
   ]
  },
  {
   "cell_type": "code",
   "execution_count": 126,
   "metadata": {},
   "outputs": [
    {
     "name": "stderr",
     "output_type": "stream",
     "text": [
      "c:\\users\\smell\\anaconda3\\envs\\py37\\lib\\site-packages\\sklearn\\utils\\deprecation.py:87: FutureWarning: Function get_feature_names is deprecated; get_feature_names is deprecated in 1.0 and will be removed in 1.2. Please use get_feature_names_out instead.\n",
      "  warnings.warn(msg, category=FutureWarning)\n"
     ]
    },
    {
     "data": {
      "text/html": [
       "<div>\n",
       "<style scoped>\n",
       "    .dataframe tbody tr th:only-of-type {\n",
       "        vertical-align: middle;\n",
       "    }\n",
       "\n",
       "    .dataframe tbody tr th {\n",
       "        vertical-align: top;\n",
       "    }\n",
       "\n",
       "    .dataframe thead th {\n",
       "        text-align: right;\n",
       "    }\n",
       "</style>\n",
       "<table border=\"1\" class=\"dataframe\">\n",
       "  <thead>\n",
       "    <tr style=\"text-align: right;\">\n",
       "      <th></th>\n",
       "      <th>sk매직</th>\n",
       "      <th>가격</th>\n",
       "      <th>가성비</th>\n",
       "      <th>고급</th>\n",
       "      <th>광파오븐</th>\n",
       "      <th>구매</th>\n",
       "      <th>구입</th>\n",
       "      <th>기능</th>\n",
       "      <th>다이얼</th>\n",
       "      <th>디자인</th>\n",
       "      <th>...</th>\n",
       "      <th>자동</th>\n",
       "      <th>자취</th>\n",
       "      <th>전자레인지</th>\n",
       "      <th>전자식</th>\n",
       "      <th>정보</th>\n",
       "      <th>제품</th>\n",
       "      <th>추천</th>\n",
       "      <th>필요</th>\n",
       "      <th>핸들</th>\n",
       "      <th>후기</th>\n",
       "    </tr>\n",
       "  </thead>\n",
       "  <tbody>\n",
       "    <tr>\n",
       "      <th>100</th>\n",
       "      <td>0.000000</td>\n",
       "      <td>0.0</td>\n",
       "      <td>0.000000</td>\n",
       "      <td>0.0</td>\n",
       "      <td>0.000000</td>\n",
       "      <td>0.0</td>\n",
       "      <td>0.000000</td>\n",
       "      <td>0.816497</td>\n",
       "      <td>0.0</td>\n",
       "      <td>0.000000</td>\n",
       "      <td>...</td>\n",
       "      <td>0.0</td>\n",
       "      <td>0.0</td>\n",
       "      <td>0.408248</td>\n",
       "      <td>0.0</td>\n",
       "      <td>0.0</td>\n",
       "      <td>0.000000</td>\n",
       "      <td>0.000000</td>\n",
       "      <td>0.0</td>\n",
       "      <td>0.0</td>\n",
       "      <td>0.000000</td>\n",
       "    </tr>\n",
       "    <tr>\n",
       "      <th>101</th>\n",
       "      <td>0.392232</td>\n",
       "      <td>0.0</td>\n",
       "      <td>0.000000</td>\n",
       "      <td>0.0</td>\n",
       "      <td>0.000000</td>\n",
       "      <td>0.0</td>\n",
       "      <td>0.196116</td>\n",
       "      <td>0.000000</td>\n",
       "      <td>0.0</td>\n",
       "      <td>0.000000</td>\n",
       "      <td>...</td>\n",
       "      <td>0.0</td>\n",
       "      <td>0.0</td>\n",
       "      <td>0.784465</td>\n",
       "      <td>0.0</td>\n",
       "      <td>0.0</td>\n",
       "      <td>0.000000</td>\n",
       "      <td>0.000000</td>\n",
       "      <td>0.0</td>\n",
       "      <td>0.0</td>\n",
       "      <td>0.392232</td>\n",
       "    </tr>\n",
       "    <tr>\n",
       "      <th>102</th>\n",
       "      <td>0.485071</td>\n",
       "      <td>0.0</td>\n",
       "      <td>0.485071</td>\n",
       "      <td>0.0</td>\n",
       "      <td>0.000000</td>\n",
       "      <td>0.0</td>\n",
       "      <td>0.000000</td>\n",
       "      <td>0.000000</td>\n",
       "      <td>0.0</td>\n",
       "      <td>0.000000</td>\n",
       "      <td>...</td>\n",
       "      <td>0.0</td>\n",
       "      <td>0.0</td>\n",
       "      <td>0.727607</td>\n",
       "      <td>0.0</td>\n",
       "      <td>0.0</td>\n",
       "      <td>0.000000</td>\n",
       "      <td>0.000000</td>\n",
       "      <td>0.0</td>\n",
       "      <td>0.0</td>\n",
       "      <td>0.000000</td>\n",
       "    </tr>\n",
       "    <tr>\n",
       "      <th>103</th>\n",
       "      <td>0.000000</td>\n",
       "      <td>0.0</td>\n",
       "      <td>0.000000</td>\n",
       "      <td>0.0</td>\n",
       "      <td>0.000000</td>\n",
       "      <td>0.0</td>\n",
       "      <td>0.000000</td>\n",
       "      <td>0.000000</td>\n",
       "      <td>0.0</td>\n",
       "      <td>0.000000</td>\n",
       "      <td>...</td>\n",
       "      <td>0.0</td>\n",
       "      <td>0.0</td>\n",
       "      <td>1.000000</td>\n",
       "      <td>0.0</td>\n",
       "      <td>0.0</td>\n",
       "      <td>0.000000</td>\n",
       "      <td>0.000000</td>\n",
       "      <td>0.0</td>\n",
       "      <td>0.0</td>\n",
       "      <td>0.000000</td>\n",
       "    </tr>\n",
       "    <tr>\n",
       "      <th>104</th>\n",
       "      <td>0.000000</td>\n",
       "      <td>0.0</td>\n",
       "      <td>0.000000</td>\n",
       "      <td>0.0</td>\n",
       "      <td>0.000000</td>\n",
       "      <td>0.0</td>\n",
       "      <td>0.000000</td>\n",
       "      <td>0.000000</td>\n",
       "      <td>0.0</td>\n",
       "      <td>0.242536</td>\n",
       "      <td>...</td>\n",
       "      <td>0.0</td>\n",
       "      <td>0.0</td>\n",
       "      <td>0.970143</td>\n",
       "      <td>0.0</td>\n",
       "      <td>0.0</td>\n",
       "      <td>0.000000</td>\n",
       "      <td>0.000000</td>\n",
       "      <td>0.0</td>\n",
       "      <td>0.0</td>\n",
       "      <td>0.000000</td>\n",
       "    </tr>\n",
       "    <tr>\n",
       "      <th>105</th>\n",
       "      <td>0.000000</td>\n",
       "      <td>0.0</td>\n",
       "      <td>0.000000</td>\n",
       "      <td>0.0</td>\n",
       "      <td>0.000000</td>\n",
       "      <td>0.0</td>\n",
       "      <td>0.000000</td>\n",
       "      <td>0.000000</td>\n",
       "      <td>0.0</td>\n",
       "      <td>0.000000</td>\n",
       "      <td>...</td>\n",
       "      <td>0.0</td>\n",
       "      <td>0.0</td>\n",
       "      <td>1.000000</td>\n",
       "      <td>0.0</td>\n",
       "      <td>0.0</td>\n",
       "      <td>0.000000</td>\n",
       "      <td>0.000000</td>\n",
       "      <td>0.0</td>\n",
       "      <td>0.0</td>\n",
       "      <td>0.000000</td>\n",
       "    </tr>\n",
       "    <tr>\n",
       "      <th>106</th>\n",
       "      <td>0.000000</td>\n",
       "      <td>0.0</td>\n",
       "      <td>0.000000</td>\n",
       "      <td>0.0</td>\n",
       "      <td>0.000000</td>\n",
       "      <td>0.0</td>\n",
       "      <td>0.000000</td>\n",
       "      <td>0.000000</td>\n",
       "      <td>0.0</td>\n",
       "      <td>0.000000</td>\n",
       "      <td>...</td>\n",
       "      <td>0.0</td>\n",
       "      <td>0.0</td>\n",
       "      <td>1.000000</td>\n",
       "      <td>0.0</td>\n",
       "      <td>0.0</td>\n",
       "      <td>0.000000</td>\n",
       "      <td>0.000000</td>\n",
       "      <td>0.0</td>\n",
       "      <td>0.0</td>\n",
       "      <td>0.000000</td>\n",
       "    </tr>\n",
       "    <tr>\n",
       "      <th>107</th>\n",
       "      <td>0.000000</td>\n",
       "      <td>0.0</td>\n",
       "      <td>0.000000</td>\n",
       "      <td>0.0</td>\n",
       "      <td>0.000000</td>\n",
       "      <td>0.0</td>\n",
       "      <td>0.000000</td>\n",
       "      <td>0.000000</td>\n",
       "      <td>0.0</td>\n",
       "      <td>0.000000</td>\n",
       "      <td>...</td>\n",
       "      <td>0.0</td>\n",
       "      <td>0.0</td>\n",
       "      <td>0.904534</td>\n",
       "      <td>0.0</td>\n",
       "      <td>0.0</td>\n",
       "      <td>0.301511</td>\n",
       "      <td>0.301511</td>\n",
       "      <td>0.0</td>\n",
       "      <td>0.0</td>\n",
       "      <td>0.000000</td>\n",
       "    </tr>\n",
       "    <tr>\n",
       "      <th>108</th>\n",
       "      <td>0.000000</td>\n",
       "      <td>0.0</td>\n",
       "      <td>0.000000</td>\n",
       "      <td>0.0</td>\n",
       "      <td>0.707107</td>\n",
       "      <td>0.0</td>\n",
       "      <td>0.000000</td>\n",
       "      <td>0.000000</td>\n",
       "      <td>0.0</td>\n",
       "      <td>0.000000</td>\n",
       "      <td>...</td>\n",
       "      <td>0.0</td>\n",
       "      <td>0.0</td>\n",
       "      <td>0.707107</td>\n",
       "      <td>0.0</td>\n",
       "      <td>0.0</td>\n",
       "      <td>0.000000</td>\n",
       "      <td>0.000000</td>\n",
       "      <td>0.0</td>\n",
       "      <td>0.0</td>\n",
       "      <td>0.000000</td>\n",
       "    </tr>\n",
       "    <tr>\n",
       "      <th>109</th>\n",
       "      <td>0.000000</td>\n",
       "      <td>0.0</td>\n",
       "      <td>0.000000</td>\n",
       "      <td>0.0</td>\n",
       "      <td>0.000000</td>\n",
       "      <td>0.0</td>\n",
       "      <td>0.000000</td>\n",
       "      <td>0.000000</td>\n",
       "      <td>0.0</td>\n",
       "      <td>0.000000</td>\n",
       "      <td>...</td>\n",
       "      <td>0.0</td>\n",
       "      <td>0.0</td>\n",
       "      <td>1.000000</td>\n",
       "      <td>0.0</td>\n",
       "      <td>0.0</td>\n",
       "      <td>0.000000</td>\n",
       "      <td>0.000000</td>\n",
       "      <td>0.0</td>\n",
       "      <td>0.0</td>\n",
       "      <td>0.000000</td>\n",
       "    </tr>\n",
       "  </tbody>\n",
       "</table>\n",
       "<p>10 rows × 27 columns</p>\n",
       "</div>"
      ],
      "text/plain": [
       "         sk매직   가격       가성비   고급      광파오븐   구매        구입        기능  다이얼  \\\n",
       "100  0.000000  0.0  0.000000  0.0  0.000000  0.0  0.000000  0.816497  0.0   \n",
       "101  0.392232  0.0  0.000000  0.0  0.000000  0.0  0.196116  0.000000  0.0   \n",
       "102  0.485071  0.0  0.485071  0.0  0.000000  0.0  0.000000  0.000000  0.0   \n",
       "103  0.000000  0.0  0.000000  0.0  0.000000  0.0  0.000000  0.000000  0.0   \n",
       "104  0.000000  0.0  0.000000  0.0  0.000000  0.0  0.000000  0.000000  0.0   \n",
       "105  0.000000  0.0  0.000000  0.0  0.000000  0.0  0.000000  0.000000  0.0   \n",
       "106  0.000000  0.0  0.000000  0.0  0.000000  0.0  0.000000  0.000000  0.0   \n",
       "107  0.000000  0.0  0.000000  0.0  0.000000  0.0  0.000000  0.000000  0.0   \n",
       "108  0.000000  0.0  0.000000  0.0  0.707107  0.0  0.000000  0.000000  0.0   \n",
       "109  0.000000  0.0  0.000000  0.0  0.000000  0.0  0.000000  0.000000  0.0   \n",
       "\n",
       "          디자인  ...   자동   자취     전자레인지  전자식   정보        제품        추천   필요  \\\n",
       "100  0.000000  ...  0.0  0.0  0.408248  0.0  0.0  0.000000  0.000000  0.0   \n",
       "101  0.000000  ...  0.0  0.0  0.784465  0.0  0.0  0.000000  0.000000  0.0   \n",
       "102  0.000000  ...  0.0  0.0  0.727607  0.0  0.0  0.000000  0.000000  0.0   \n",
       "103  0.000000  ...  0.0  0.0  1.000000  0.0  0.0  0.000000  0.000000  0.0   \n",
       "104  0.242536  ...  0.0  0.0  0.970143  0.0  0.0  0.000000  0.000000  0.0   \n",
       "105  0.000000  ...  0.0  0.0  1.000000  0.0  0.0  0.000000  0.000000  0.0   \n",
       "106  0.000000  ...  0.0  0.0  1.000000  0.0  0.0  0.000000  0.000000  0.0   \n",
       "107  0.000000  ...  0.0  0.0  0.904534  0.0  0.0  0.301511  0.301511  0.0   \n",
       "108  0.000000  ...  0.0  0.0  0.707107  0.0  0.0  0.000000  0.000000  0.0   \n",
       "109  0.000000  ...  0.0  0.0  1.000000  0.0  0.0  0.000000  0.000000  0.0   \n",
       "\n",
       "      핸들        후기  \n",
       "100  0.0  0.000000  \n",
       "101  0.0  0.392232  \n",
       "102  0.0  0.000000  \n",
       "103  0.0  0.000000  \n",
       "104  0.0  0.000000  \n",
       "105  0.0  0.000000  \n",
       "106  0.0  0.000000  \n",
       "107  0.0  0.000000  \n",
       "108  0.0  0.000000  \n",
       "109  0.0  0.000000  \n",
       "\n",
       "[10 rows x 27 columns]"
      ]
     },
     "execution_count": 126,
     "metadata": {},
     "output_type": "execute_result"
    }
   ],
   "source": [
    "from sklearn.feature_extraction.text import TfidfVectorizer, CountVectorizer\n",
    "\n",
    "\n",
    "vect = CountVectorizer()\n",
    "document_term_matrix = vect.fit_transform(tm_top_nouns)\n",
    "\n",
    "tm_tfidv = TfidfVectorizer().fit(tm_top_nouns)\n",
    "tm_tfidv.transform(tm_posts).toarray()\n",
    "\n",
    "tm_30_tfidf=pd.DataFrame(tm_tfidv.transform(tm_posts).toarray(), columns=vect.get_feature_names())\n",
    "tm_30_tfidf[100:110]"
   ]
  },
  {
   "cell_type": "code",
   "execution_count": 138,
   "metadata": {},
   "outputs": [],
   "source": [
    "# tm_30_tfidf.to_csv('./data/skm_blog_tfidf30.csv', encoding='utf-8-sig') # csv 저장\n",
    "\n",
    "# tfidf_xlsx = pd.ExcelWriter('./data/skm_blog_tfidf30.xlsx', engine='xlsxwriter') # xslx 파일로 저장 \n",
    "# tm_30_tfidf.to_excel(tfidf_xlsx, sheet_name='Sheet1') \n",
    "# tfidf_xlsx.close()"
   ]
  },
  {
   "cell_type": "markdown",
   "metadata": {},
   "source": [
    "### 2) 관심있는 단어를 직접 지정하여 TF-IDF 구하기"
   ]
  },
  {
   "cell_type": "code",
   "execution_count": 140,
   "metadata": {},
   "outputs": [
    {
     "name": "stdout",
     "output_type": "stream",
     "text": [
      "['sk매직', '가스레인지', '빌트인', '교체', '구매', '설치', '후드', '디자인', '가격', '하이브리드', '인덕션', '가치', '사용', '추천', '에코']\n"
     ]
    }
   ],
   "source": [
    "custom_vocab = ['sk매직', '가스레인지', '빌트인', '교체', '구매', '설치', '후드', '디자인', '가격', '하이브리드','인덕션', '가치', '사용', '추천', '에코']\n",
    "print(custom_vocab)"
   ]
  },
  {
   "cell_type": "code",
   "execution_count": 119,
   "metadata": {},
   "outputs": [
    {
     "name": "stdout",
     "output_type": "stream",
     "text": [
      "['전자레인지', '제품', '구매', '다이얼', '사용', '기능', '가성비', '가격', '구입', '디자인', '필요']\n"
     ]
    }
   ],
   "source": [
    "custom_vocab = [\"전자레인지\", \"제품\", \"구매\",\"다이얼\",\"사용\",\"기능\",\"가성비\" ,\"가격\",\"구입\",\"디자인\",\"필요\"]\n",
    "print(custom_vocab)"
   ]
  },
  {
   "cell_type": "code",
   "execution_count": 69,
   "metadata": {},
   "outputs": [
    {
     "name": "stdout",
     "output_type": "stream",
     "text": [
      "['배송', '가성비', '디자인', '색상', '해동']\n"
     ]
    }
   ],
   "source": [
    "custom_vocab = [\"배송\",\"가성비\",\"디자인\",\"색상\",\"해동\"]\n",
    "print(custom_vocab)"
   ]
  },
  {
   "cell_type": "code",
   "execution_count": null,
   "metadata": {},
   "outputs": [],
   "source": []
  },
  {
   "cell_type": "code",
   "execution_count": 130,
   "metadata": {},
   "outputs": [
    {
     "name": "stderr",
     "output_type": "stream",
     "text": [
      "c:\\users\\smell\\anaconda3\\envs\\py37\\lib\\site-packages\\sklearn\\utils\\deprecation.py:87: FutureWarning: Function get_feature_names is deprecated; get_feature_names is deprecated in 1.0 and will be removed in 1.2. Please use get_feature_names_out instead.\n",
      "  warnings.warn(msg, category=FutureWarning)\n"
     ]
    },
    {
     "data": {
      "text/html": [
       "<div>\n",
       "<style scoped>\n",
       "    .dataframe tbody tr th:only-of-type {\n",
       "        vertical-align: middle;\n",
       "    }\n",
       "\n",
       "    .dataframe tbody tr th {\n",
       "        vertical-align: top;\n",
       "    }\n",
       "\n",
       "    .dataframe thead th {\n",
       "        text-align: right;\n",
       "    }\n",
       "</style>\n",
       "<table border=\"1\" class=\"dataframe\">\n",
       "  <thead>\n",
       "    <tr style=\"text-align: right;\">\n",
       "      <th></th>\n",
       "      <th>가성비</th>\n",
       "      <th>디자인</th>\n",
       "      <th>배송</th>\n",
       "      <th>색상</th>\n",
       "      <th>해동</th>\n",
       "    </tr>\n",
       "  </thead>\n",
       "  <tbody>\n",
       "    <tr>\n",
       "      <th>0</th>\n",
       "      <td>0.0</td>\n",
       "      <td>0.0</td>\n",
       "      <td>0.0</td>\n",
       "      <td>0.0</td>\n",
       "      <td>0.0</td>\n",
       "    </tr>\n",
       "    <tr>\n",
       "      <th>1</th>\n",
       "      <td>0.0</td>\n",
       "      <td>0.0</td>\n",
       "      <td>0.0</td>\n",
       "      <td>0.0</td>\n",
       "      <td>0.0</td>\n",
       "    </tr>\n",
       "    <tr>\n",
       "      <th>2</th>\n",
       "      <td>0.0</td>\n",
       "      <td>0.0</td>\n",
       "      <td>0.0</td>\n",
       "      <td>0.0</td>\n",
       "      <td>0.0</td>\n",
       "    </tr>\n",
       "    <tr>\n",
       "      <th>3</th>\n",
       "      <td>0.0</td>\n",
       "      <td>0.0</td>\n",
       "      <td>0.0</td>\n",
       "      <td>0.0</td>\n",
       "      <td>0.0</td>\n",
       "    </tr>\n",
       "    <tr>\n",
       "      <th>4</th>\n",
       "      <td>0.0</td>\n",
       "      <td>0.0</td>\n",
       "      <td>0.0</td>\n",
       "      <td>0.0</td>\n",
       "      <td>0.0</td>\n",
       "    </tr>\n",
       "    <tr>\n",
       "      <th>...</th>\n",
       "      <td>...</td>\n",
       "      <td>...</td>\n",
       "      <td>...</td>\n",
       "      <td>...</td>\n",
       "      <td>...</td>\n",
       "    </tr>\n",
       "    <tr>\n",
       "      <th>562</th>\n",
       "      <td>0.0</td>\n",
       "      <td>0.0</td>\n",
       "      <td>0.0</td>\n",
       "      <td>0.0</td>\n",
       "      <td>0.0</td>\n",
       "    </tr>\n",
       "    <tr>\n",
       "      <th>563</th>\n",
       "      <td>0.0</td>\n",
       "      <td>0.0</td>\n",
       "      <td>0.0</td>\n",
       "      <td>0.0</td>\n",
       "      <td>0.0</td>\n",
       "    </tr>\n",
       "    <tr>\n",
       "      <th>564</th>\n",
       "      <td>0.0</td>\n",
       "      <td>0.0</td>\n",
       "      <td>0.0</td>\n",
       "      <td>0.0</td>\n",
       "      <td>0.0</td>\n",
       "    </tr>\n",
       "    <tr>\n",
       "      <th>565</th>\n",
       "      <td>0.0</td>\n",
       "      <td>0.0</td>\n",
       "      <td>0.0</td>\n",
       "      <td>0.0</td>\n",
       "      <td>0.0</td>\n",
       "    </tr>\n",
       "    <tr>\n",
       "      <th>566</th>\n",
       "      <td>0.0</td>\n",
       "      <td>0.0</td>\n",
       "      <td>0.0</td>\n",
       "      <td>0.0</td>\n",
       "      <td>0.0</td>\n",
       "    </tr>\n",
       "  </tbody>\n",
       "</table>\n",
       "<p>567 rows × 5 columns</p>\n",
       "</div>"
      ],
      "text/plain": [
       "     가성비  디자인   배송   색상   해동\n",
       "0    0.0  0.0  0.0  0.0  0.0\n",
       "1    0.0  0.0  0.0  0.0  0.0\n",
       "2    0.0  0.0  0.0  0.0  0.0\n",
       "3    0.0  0.0  0.0  0.0  0.0\n",
       "4    0.0  0.0  0.0  0.0  0.0\n",
       "..   ...  ...  ...  ...  ...\n",
       "562  0.0  0.0  0.0  0.0  0.0\n",
       "563  0.0  0.0  0.0  0.0  0.0\n",
       "564  0.0  0.0  0.0  0.0  0.0\n",
       "565  0.0  0.0  0.0  0.0  0.0\n",
       "566  0.0  0.0  0.0  0.0  0.0\n",
       "\n",
       "[567 rows x 5 columns]"
      ]
     },
     "execution_count": 130,
     "metadata": {},
     "output_type": "execute_result"
    }
   ],
   "source": [
    "vect = CountVectorizer()\n",
    "custom_term_matrix = vect.fit_transform(custom_vocab)\n",
    "\n",
    "custom_tm_tfidv = TfidfVectorizer().fit(custom_vocab)\n",
    "custom_tm_tfidv.transform(tm_posts).toarray()\n",
    "\n",
    "custom_tm_tfidf=pd.DataFrame(custom_tm_tfidv.transform(tm_posts).toarray(), columns=vect.get_feature_names())\n",
    "custom_tm_tfidf[0:1100]"
   ]
  },
  {
   "cell_type": "code",
   "execution_count": 131,
   "metadata": {},
   "outputs": [],
   "source": [
    "# custom_tm_tfidf.to_csv('./data/skm_blog_tfidf_15.csv', encoding='utf-8-sig') # csv 저장\n",
    "custom_tm_tfidf.to_csv('C:/Users/smell/OneDrive/바탕 화면/tool 모음/수업/2학기 수업/파이썬 텍스트 마이닝/skm_blog_tfidf_15.csv', encoding='utf-8-sig')\n",
    "custom_tfidf_xlsx = pd.ExcelWriter('C:/Users/smell/OneDrive/바탕 화면/tool 모음/수업/2학기 수업/파이썬 텍스트 마이닝/skm_blog_tfidf_15.xlsx', engine='xlsxwriter') # xslx 파일로 저장 \n",
    "custom_tm_tfidf.to_excel(custom_tfidf_xlsx, sheet_name='Sheet1') \n",
    "custom_tfidf_xlsx.close()"
   ]
  },
  {
   "cell_type": "code",
   "execution_count": null,
   "metadata": {},
   "outputs": [],
   "source": []
  },
  {
   "cell_type": "code",
   "execution_count": null,
   "metadata": {},
   "outputs": [],
   "source": []
  }
 ],
 "metadata": {
  "kernelspec": {
   "display_name": "Python 3",
   "language": "python",
   "name": "python3"
  },
  "language_info": {
   "codemirror_mode": {
    "name": "ipython",
    "version": 3
   },
   "file_extension": ".py",
   "mimetype": "text/x-python",
   "name": "python",
   "nbconvert_exporter": "python",
   "pygments_lexer": "ipython3",
   "version": "3.8.5"
  },
  "toc": {
   "base_numbering": 1,
   "nav_menu": {},
   "number_sections": true,
   "sideBar": true,
   "skip_h1_title": false,
   "title_cell": "Table of Contents",
   "title_sidebar": "Contents",
   "toc_cell": false,
   "toc_position": {},
   "toc_section_display": true,
   "toc_window_display": false
  },
  "varInspector": {
   "cols": {
    "lenName": 16,
    "lenType": 16,
    "lenVar": 40
   },
   "kernels_config": {
    "python": {
     "delete_cmd_postfix": "",
     "delete_cmd_prefix": "del ",
     "library": "var_list.py",
     "varRefreshCmd": "print(var_dic_list())"
    },
    "r": {
     "delete_cmd_postfix": ") ",
     "delete_cmd_prefix": "rm(",
     "library": "var_list.r",
     "varRefreshCmd": "cat(var_dic_list()) "
    }
   },
   "types_to_exclude": [
    "module",
    "function",
    "builtin_function_or_method",
    "instance",
    "_Feature"
   ],
   "window_display": false
  }
 },
 "nbformat": 4,
 "nbformat_minor": 4
}
